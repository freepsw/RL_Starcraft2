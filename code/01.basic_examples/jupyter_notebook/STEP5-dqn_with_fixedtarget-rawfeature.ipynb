{
 "cells": [
  {
   "cell_type": "markdown",
   "metadata": {},
   "source": [
    "# STEP 4 - Making DRL PySC2 Agent"
   ]
  },
  {
   "cell_type": "code",
   "execution_count": 1,
   "metadata": {},
   "outputs": [],
   "source": [
    "%load_ext autoreload\n",
    "%autoreload 2"
   ]
  },
  {
   "cell_type": "code",
   "execution_count": 2,
   "metadata": {},
   "outputs": [],
   "source": [
    "import sys; sys.path.append('..')\n",
    "# pytorch network model을 정의한 디렉토리 (별도 작성)\n",
    "# !unzip  skdrl.zip -d ~"
   ]
  },
  {
   "cell_type": "markdown",
   "metadata": {},
   "source": [
    "## 0. Runnning 'Agent code' on jupyter notebook "
   ]
  },
  {
   "cell_type": "code",
   "execution_count": 3,
   "metadata": {},
   "outputs": [
    {
     "name": "stdout",
     "output_type": "stream",
     "text": [
      "pygame 1.9.6\n",
      "Hello from the pygame community. https://www.pygame.org/contribute.html\n",
      "Flag set\n"
     ]
    }
   ],
   "source": [
    "### unfortunately, PySC2 uses Abseil, which treats python code as if its run like an app\n",
    "# This does not play well with jupyter notebook\n",
    "# So we will need to monkeypatch sys.argv\n",
    "from __future__ import absolute_import\n",
    "from __future__ import division\n",
    "from __future__ import print_function\n",
    "\n",
    "import sys\n",
    "#sys.argv = [\"python\", \"--map\", \"AbyssalReef\"]\n",
    "sys.argv = [\"python\", \"--map\", \"Simple64\"]\n",
    "\n",
    "# Copyright 2017 Google Inc. All Rights Reserved.\n",
    "#\n",
    "# Licensed under the Apache License, Version 2.0 (the \"License\");\n",
    "# you may not use this file except in compliance with the License.\n",
    "# You may obtain a copy of the License at\n",
    "#\n",
    "#      http://www.apache.org/licenses/LICENSE-2.0\n",
    "#\n",
    "# Unless required by applicable law or agreed to in writing, software\n",
    "# distributed under the License is distributed on an \"AS-IS\" BASIS,\n",
    "# WITHOUT WARRANTIES OR CONDITIONS OF ANY KIND, either express or implied.\n",
    "# See the License for the specific language governing permissions and\n",
    "# limitations under the License.\n",
    "\"\"\"Run an agent.\"\"\"\n",
    "\n",
    "\n",
    "\n",
    "import importlib\n",
    "import threading\n",
    "\n",
    "from absl import app\n",
    "from absl import flags\n",
    "from future.builtins import range  # pylint: disable=redefined-builtin\n",
    "\n",
    "from pysc2 import maps\n",
    "from pysc2.env import available_actions_printer\n",
    "from pysc2.env import run_loop\n",
    "from pysc2.env import sc2_env\n",
    "from pysc2.lib import point_flag\n",
    "from pysc2.lib import stopwatch\n",
    "from pysc2.lib import actions\n",
    "\n",
    "FLAGS = flags.FLAGS\n",
    "\n",
    "# because of Abseil's horrible design for running code underneath Colabs\n",
    "# We have to pull out this ugly hack from the hat\n",
    "# print(globals())\n",
    "\n",
    "if \"flags_defined\" not in globals():\n",
    "    print(\"Flag set\")\n",
    "    flags.DEFINE_bool(\"render\", False, \"Whether to render with pygame.\")\n",
    "    point_flag.DEFINE_point(\"feature_screen_size\", \"84\",\n",
    "                            \"Resolution for screen feature layers.\")\n",
    "    point_flag.DEFINE_point(\"feature_minimap_size\", \"64\",\n",
    "                            \"Resolution for minimap feature layers.\")\n",
    "    point_flag.DEFINE_point(\"rgb_screen_size\", None,\n",
    "                            \"Resolution for rendered screen.\")\n",
    "    point_flag.DEFINE_point(\"rgb_minimap_size\", None,\n",
    "                            \"Resolution for rendered minimap.\")\n",
    "    flags.DEFINE_enum(\"action_space\", \"RAW\", sc2_env.ActionSpace._member_names_,  # pylint: disable=protected-access\n",
    "                      \"Which action space to use. Needed if you take both feature \"\n",
    "                      \"and rgb observations.\")\n",
    "    flags.DEFINE_bool(\"use_feature_units\", False,\n",
    "                      \"Whether to include feature units.\")\n",
    "    flags.DEFINE_bool(\"use_raw_units\", True,\n",
    "                      \"Whether to include raw units.\")\n",
    "    flags.DEFINE_integer(\"raw_resolution\", 64, \"Raw Resolution.\")\n",
    "    flags.DEFINE_bool(\"disable_fog\", True, \"Whether to disable Fog of War.\")\n",
    "\n",
    "    flags.DEFINE_integer(\"max_agent_steps\", 0, \"Total agent steps.\")\n",
    "    flags.DEFINE_integer(\"game_steps_per_episode\", None, \"Game steps per episode.\")\n",
    "    flags.DEFINE_integer(\"max_episodes\", 0, \"Total episodes.\")\n",
    "    flags.DEFINE_integer(\"step_mul\", 8, \"Game steps per agent step.\")\n",
    "    flags.DEFINE_float(\"fps\", 22.4, \"Frames per second to run the game.\")\n",
    "\n",
    "    #flags.DEFINE_string(\"agent\", \"sc2.agent.BasicAgent.ZergBasicAgent\",\n",
    "    #                    \"Which agent to run, as a python path to an Agent class.\")\n",
    "    #flags.DEFINE_enum(\"agent_race\", \"zerg\", sc2_env.Race._member_names_,  # pylint: disable=protected-access\n",
    "    #                  \"Agent 1's race.\")\n",
    "    flags.DEFINE_string(\"agent\", \"TerranRLAgentWithRawActsAndRawObs\",\n",
    "                        \"Which agent to run, as a python path to an Agent class.\")\n",
    "    flags.DEFINE_enum(\"agent_race\", \"terran\", sc2_env.Race._member_names_,  # pylint: disable=protected-access\n",
    "                      \"Agent 1's race.\")\n",
    "\n",
    "    flags.DEFINE_string(\"agent2\", \"Bot\", \"Second agent, either Bot or agent class.\")\n",
    "    flags.DEFINE_enum(\"agent2_race\", \"zerg\", sc2_env.Race._member_names_,  # pylint: disable=protected-access\n",
    "                      \"Agent 2's race.\")\n",
    "#     flags.DEFINE_enum(\"difficulty\", \"very_easy\", sc2_env.Difficulty._member_names_,  # pylint: disable=protected-access\n",
    "# The possible difficulty levels are very_easy, easy, medium, medium_hard, hard, harder, very_hard, cheat_vision, cheat_money and cheat_insane. \n",
    "# Please note that medium_hard is actually “hard” in the game,\n",
    "    flags.DEFINE_enum(\"difficulty\", \"medium\", sc2_env.Difficulty._member_names_,  # pylint: disable=protected-access\n",
    "                      \"If agent2 is a built-in Bot, it's strength.\")\n",
    "\n",
    "    flags.DEFINE_bool(\"profile\", False, \"Whether to turn on code profiling.\")\n",
    "    flags.DEFINE_bool(\"trace\", False, \"Whether to trace the code execution.\")\n",
    "    flags.DEFINE_integer(\"parallel\", 1, \"How many instances to run in parallel.\")\n",
    "\n",
    "    flags.DEFINE_bool(\"save_replay\", True, \"Whether to save a replay at the end.\")\n",
    "\n",
    "    flags.DEFINE_string(\"map\", None, \"Name of a map to use.\")\n",
    "    flags.mark_flag_as_required(\"map\")\n",
    "\n",
    "flags_defined = True\n",
    "\n",
    "# print(type(sc2_env.Race[FLAGS.agent2_race]))\n",
    "# print(type(sc2_env.Difficulty[FLAGS.difficulty]))\n",
    "\n",
    "def run_thread(agent_classes, players, map_name, visualize):\n",
    "  \"\"\"Run one thread worth of the environment with agents.\"\"\"\n",
    "  with sc2_env.SC2Env(\n",
    "      map_name=map_name,\n",
    "      players=players,\n",
    "        agent_interface_format=features.AgentInterfaceFormat(\n",
    "            action_space=actions.ActionSpace.RAW,\n",
    "            use_raw_units=True,\n",
    "            raw_resolution=64,\n",
    "        ),\n",
    "      step_mul=FLAGS.step_mul,\n",
    "      game_steps_per_episode=FLAGS.game_steps_per_episode,\n",
    "      disable_fog=FLAGS.disable_fog,\n",
    "      visualize=visualize) as env:\n",
    "    #env = available_actions_printer.AvailableActionsPrinter(env)\n",
    "    agents = [agent_cls() for agent_cls in agent_classes]\n",
    "    run_loop.run_loop(agents, env, FLAGS.max_agent_steps, FLAGS.max_episodes)\n",
    "    if FLAGS.save_replay:\n",
    "      env.save_replay(agent_classes[0].__name__)\n",
    "\n",
    "def main(unused_argv):\n",
    "  \"\"\"Run an agent.\"\"\"\n",
    "  #stopwatch.sw.enabled = FLAGS.profile or FLAGS.trace\n",
    "  #stopwatch.sw.trace = FLAGS.trace\n",
    "\n",
    "  map_inst = maps.get(FLAGS.map)\n",
    "\n",
    "  agent_classes = []\n",
    "  players = []\n",
    "\n",
    "  #agent_module, agent_name = FLAGS.agent.rsplit(\".\", 1)\n",
    "  #agent_cls = getattr(importlib.import_module(agent_module), agent_name)\n",
    "  #agent_classes.append(agent_cls)\n",
    "  agent_classes.append(TerranRLAgentWithRawActsAndRawObs)\n",
    "  players.append(sc2_env.Agent(sc2_env.Race[FLAGS.agent_race]))\n",
    "\n",
    "  if map_inst.players >= 2:\n",
    "    if FLAGS.agent2 == \"Bot\":\n",
    "      print(FLAGS.agent2)   \n",
    "      players.append(sc2_env.Bot(sc2_env.Race[\"terran\"],\n",
    "                                 sc2_env.Difficulty[\"medium\"]))\n",
    "    else:\n",
    "      print(\"Not Bot\")\n",
    "      #agent_module, agent_name = FLAGS.agent2.rsplit(\".\", 1)\n",
    "      #agent_cls = getattr(importlib.import_module(agent_module), agent_name)\n",
    "      agent_classes.append(TerranRandomAgent)\n",
    "      players.append(sc2_env.Agent(sc2_env.Race[FLAGS.agent2_race]))\n",
    "\n",
    "  print(players)\n",
    "\n",
    "  threads = []\n",
    "  for _ in range(FLAGS.parallel - 1):\n",
    "    t = threading.Thread(target=run_thread,\n",
    "                         args=(agent_classes, players, FLAGS.map, False))\n",
    "    threads.append(t)\n",
    "    t.start()\n",
    "\n",
    "  run_thread(agent_classes, players, FLAGS.map, FLAGS.render)\n",
    "\n",
    "  for t in threads:\n",
    "    t.join()\n",
    "\n",
    "  if FLAGS.profile:\n",
    "    pass\n",
    "    #print(stopwatch.sw)"
   ]
  },
  {
   "cell_type": "markdown",
   "metadata": {},
   "source": [
    "## 3. Applying Vanilla DQN to a PySC2 Agent\n",
    "\n",
    "구현된 기능\n",
    "\n",
    "- Implementing 'Experience Replay' : \n",
    "    - 'Maximization Bias' 문제를 발생시키는 원인 중 하나인 'Sample간의 시간적 연관성'을 해결하기 위한 방법\n",
    "    - Online Learning 에서 Batch Learning 으로 학습방법 바뀜 : Online update 는 Batch update 보다 일반적으로 Validation loss 가 더 높게 나타남.\n",
    "    - Reinforcement Learning for Robots. Using Neural Networks. Long -Ji Lin. January 6, 1993. 논문에서 최초로 연구됨 http://isl.anthropomatik.kit.edu/pdf/Lin1993.pdf\n",
    "\n",
    "- Implementing 'Fixed Q-Target' : \n",
    "    - 'Moving Q-Target' 문제 해결하기 위한 방법\n",
    "    - 2015년 Nature 버전 DQN 논문에서 처음 제안됨. https://deepmind.com/research/publications/human-level-control-through-deep-reinforcement-learning \n",
    "\n",
    "\n",
    "구현되지 않은 기능\n",
    "\n",
    "- Implementing 'Sensory Input Feature-Extraction' :\n",
    "    - 게임의 Raw Image 를 Neural Net에 넣기 위한 Preprocessing(전처리) 과정\n",
    "    - Raw Image 의 Sequence중 '최근 4개의 이미지'(과거 정보)를 하나의 새로운 State로 정의하여 non-MDP를 MDP 문제로 바꾸는 Preprocessing 과정 \n",
    "    - CNN(합성곱 신경망)을 활용한 '차원의 저주' 극복"
   ]
  },
  {
   "cell_type": "code",
   "execution_count": 19,
   "metadata": {},
   "outputs": [
    {
     "name": "stdout",
     "output_type": "stream",
     "text": [
      "cuda:0\n"
     ]
    }
   ],
   "source": [
    "import random\n",
    "import time\n",
    "import math\n",
    "import os.path\n",
    "\n",
    "import numpy as np\n",
    "import pandas as pd\n",
    "from collections import deque\n",
    "import pickle\n",
    "\n",
    "from pysc2.agents import base_agent\n",
    "from pysc2.env import sc2_env\n",
    "from pysc2.lib import actions, features, units\n",
    "from absl import app\n",
    "\n",
    "import torch\n",
    "from torch.utils.tensorboard import SummaryWriter\n",
    "\n",
    "from skdrl.pytorch.model.mlp import NaiveMultiLayerPerceptron\n",
    "from skdrl.common.memory.memory import ExperienceReplayMemory\n",
    "\n",
    "# Network를 분리하였으므로, weight를 저정하는 공간도 2개로 분리\n",
    "\n",
    "DATA_FILE_QNET = '30_rlagent_with_vanilla_dqn_qnet'\n",
    "DATA_FILE_QNET_TARGET = '30_rlagent_with_vanilla_dqn_qnet_target'\n",
    "SCORE_FILE = '30_rlagent_with_vanilla_dqn_score'\n",
    "\n",
    "scores = []                        # list containing scores from each episode\n",
    "scores_window = deque(maxlen=100)  # last 100 scores\n",
    "\n",
    "device = torch.device(\"cuda:0\" if torch.cuda.is_available() else \"cpu\")\n",
    "writer = SummaryWriter('/home/jupyter/tensorboard_log')\n",
    "print(device)\n",
    "\n",
    "\n",
    "\n",
    "import torch\n",
    "import torch.nn as nn\n",
    "import numpy as np\n",
    "import random\n",
    "\n",
    "class DQN(nn.Module):\n",
    "\n",
    "    def __init__(self,\n",
    "                 state_dim: int,\n",
    "                 action_dim: int,\n",
    "                 qnet: nn.Module,\n",
    "                 qnet_target: nn.Module,\n",
    "                 lr: float,\n",
    "                 gamma: float,\n",
    "                 epsilon: float):\n",
    "        \"\"\"\n",
    "        :param state_dim: input state dimension\n",
    "        :param action_dim: action dimension\n",
    "        :param qnet: main q network\n",
    "        :param qnet_target: target q network\n",
    "        :param lr: learning rate\n",
    "        :param gamma: discount factor of MDP\n",
    "        :param epsilon: E-greedy factor\n",
    "        \"\"\"\n",
    "\n",
    "        super(DQN, self).__init__()\n",
    "        self.state_dim = state_dim\n",
    "        self.action_dim = action_dim\n",
    "        self.qnet = qnet\n",
    "        self.lr = lr\n",
    "        self.gamma = gamma # discount future reward (미래의 보상을 조금만 반영)\n",
    "        self.opt = torch.optim.Adam(params=self.qnet.parameters(), lr=lr)\n",
    "        self.register_buffer('epsilon', torch.ones(1) * epsilon)\n",
    "\n",
    "        # target network related\n",
    "        qnet_target.load_state_dict(qnet.state_dict())\n",
    "        self.qnet_target = qnet_target\n",
    "        self.criteria = nn.SmoothL1Loss()\n",
    "\n",
    "    def choose_action(self, state):\n",
    "        qs = self.qnet(state)\n",
    "        #prob = np.random.uniform(0.0, 1.0, 1)\n",
    "        #if torch.from_numpy(prob).float() <= self.epsilon:  # random\n",
    "        if random.random() <= self.epsilon: # random\n",
    "            action = np.random.choice(range(self.action_dim))\n",
    "        else:  # greedy\n",
    "            action = qs.argmax(dim=-1)\n",
    "        return int(action)\n",
    "\n",
    "    def learn(self, state, action, reward, next_state, done):\n",
    "        s, a, r, ns = state, action, reward, next_state\n",
    "\n",
    "        # compute Q-Learning target with 'target network'\n",
    "        with torch.no_grad():\n",
    "            q_max, _ = self.qnet_target(ns).max(dim=-1, keepdims=True)\n",
    "            q_target = r + self.gamma * q_max * (1 - done)\n",
    "\n",
    "        q_val = self.qnet(s).gather(1, a)\n",
    "        loss = self.criteria(q_val, q_target)\n",
    "\n",
    "        self.opt.zero_grad()\n",
    "        loss.backward()\n",
    "        self.opt.step()\n",
    "\n",
    "\n",
    "def prepare_training_inputs(sampled_exps, device='cpu'):\n",
    "    states = []\n",
    "    actions = []\n",
    "    rewards = []\n",
    "    next_states = []\n",
    "    dones = []\n",
    "    for sampled_exp in sampled_exps:\n",
    "        states.append(sampled_exp[0])\n",
    "        actions.append(sampled_exp[1])\n",
    "        rewards.append(sampled_exp[2])\n",
    "        next_states.append(sampled_exp[3])\n",
    "        dones.append(sampled_exp[4])\n",
    "\n",
    "    states = torch.cat(states, dim=0).float().to(device)\n",
    "    actions = torch.cat(actions, dim=0).to(device)\n",
    "    rewards = torch.cat(rewards, dim=0).float().to(device)\n",
    "    next_states = torch.cat(next_states, dim=0).float().to(device)\n",
    "    dones = torch.cat(dones, dim=0).float().to(device)\n",
    "    return states, actions, rewards, next_states, dones\n",
    "\n",
    "\n",
    "class TerranAgentWithRawActsAndRawObs(base_agent.BaseAgent):\n",
    "    actions = (\"do_nothing\",\n",
    "               \"harvest_minerals\",\n",
    "               \"build_supply_depot\",\n",
    "               \"build_barracks\",\n",
    "               \"train_marine\",\n",
    "               \"attack\")\n",
    "\n",
    "    def get_my_units_by_type(self, obs, unit_type):\n",
    "        return [unit for unit in obs.observation.raw_units\n",
    "                if unit.unit_type == unit_type\n",
    "                and unit.alliance == features.PlayerRelative.SELF]\n",
    "\n",
    "    def get_enemy_units_by_type(self, obs, unit_type):\n",
    "        return [unit for unit in obs.observation.raw_units\n",
    "                if unit.unit_type == unit_type\n",
    "                and unit.alliance == features.PlayerRelative.ENEMY]\n",
    "\n",
    "    def get_my_completed_units_by_type(self, obs, unit_type):\n",
    "        return [unit for unit in obs.observation.raw_units\n",
    "                if unit.unit_type == unit_type\n",
    "                and unit.build_progress == 100\n",
    "                and unit.alliance == features.PlayerRelative.SELF]\n",
    "\n",
    "    def get_enemy_completed_units_by_type(self, obs, unit_type):\n",
    "        return [unit for unit in obs.observation.raw_units\n",
    "                if unit.unit_type == unit_type\n",
    "                and unit.build_progress == 100\n",
    "                and unit.alliance == features.PlayerRelative.ENEMY]\n",
    "\n",
    "    def get_distances(self, obs, units, xy):\n",
    "        units_xy = [(unit.x, unit.y) for unit in units]\n",
    "        return np.linalg.norm(np.array(units_xy) - np.array(xy), axis=1)\n",
    "\n",
    "    def getMeanLocation(self, unitList):\n",
    "        sum_x = 0\n",
    "        sum_y = 0\n",
    "        for unit in unitList:\n",
    "            sum_x += unit.x\n",
    "            sum_y += unit.y\n",
    "        mean_x = sum_x / len(unitList)\n",
    "        mean_y = sum_y / len(unitList)\n",
    "        return [mean_x, mean_y]\n",
    "\n",
    "    def transformDistance(self, x, x_distance, y, y_distance):\n",
    "        if not self.base_top_left:\n",
    "            return [x - x_distance, y - y_distance]\n",
    "        return [x + x_distance, y + y_distance]\n",
    "\n",
    "    def transformLocation(self, x, y):\n",
    "        if not self.base_top_left:\n",
    "            return [64 - x, 64 - y]\n",
    "        return [x, y]\n",
    "\n",
    "    def step(self, obs):\n",
    "        super(TerranAgentWithRawActsAndRawObs, self).step(obs)\n",
    "        if obs.first():\n",
    "            command_center = self.get_my_units_by_type(\n",
    "                obs, units.Terran.CommandCenter)[0]\n",
    "            self.base_top_left = (command_center.x < 32)\n",
    "\n",
    "    def do_nothing(self, obs):\n",
    "        return actions.RAW_FUNCTIONS.no_op()\n",
    "\n",
    "    def harvest_minerals(self, obs):\n",
    "        scvs = self.get_my_units_by_type(obs, units.Terran.SCV)\n",
    "        idle_scvs = [scv for scv in scvs if scv.order_length == 0]\n",
    "        if len(idle_scvs) > 0:\n",
    "            mineral_patches = [unit for unit in obs.observation.raw_units\n",
    "                               if unit.unit_type in [\n",
    "                                   units.Neutral.BattleStationMineralField,\n",
    "                                   units.Neutral.BattleStationMineralField750,\n",
    "                                   units.Neutral.LabMineralField,\n",
    "                                   units.Neutral.LabMineralField750,\n",
    "                                   units.Neutral.MineralField,\n",
    "                                   units.Neutral.MineralField750,\n",
    "                                   units.Neutral.PurifierMineralField,\n",
    "                                   units.Neutral.PurifierMineralField750,\n",
    "                                   units.Neutral.PurifierRichMineralField,\n",
    "                                   units.Neutral.PurifierRichMineralField750,\n",
    "                                   units.Neutral.RichMineralField,\n",
    "                                   units.Neutral.RichMineralField750\n",
    "                               ]]\n",
    "            scv = random.choice(idle_scvs)\n",
    "            distances = self.get_distances(obs, mineral_patches, (scv.x, scv.y))\n",
    "            mineral_patch = mineral_patches[np.argmin(distances)]\n",
    "            return actions.RAW_FUNCTIONS.Harvest_Gather_unit(\n",
    "                \"now\", scv.tag, mineral_patch.tag)\n",
    "        return actions.RAW_FUNCTIONS.no_op()\n",
    "\n",
    "    def build_supply_depot(self, obs):\n",
    "        supply_depots = self.get_my_units_by_type(obs, units.Terran.SupplyDepot)\n",
    "        barrackses = self.get_my_units_by_type(obs, units.Terran.Barracks)\n",
    "        barrack_ratio = (len(supply_depots) - len(barrackses) * 2)\n",
    "        scvs = self.get_my_units_by_type(obs, units.Terran.SCV)\n",
    "        if (obs.observation.player.minerals >= 100 and len(supply_depots) < 25):\n",
    "            free_supply = (obs.observation.player.food_cap - obs.observation.player.food_used)\n",
    "            exp_free_supply = (15 + len(supply_depots) * 8) - obs.observation.player.food_used\n",
    "            # print(\"exp_cap : \",exp_free_supply, \"cap : \", obs.observation.player.food_cap, \" used: \", obs.observation.player.food_used)\n",
    "\n",
    "            if (exp_free_supply <= 20):\n",
    "#                 print(\"supply : \", len(supply_depots), \"barrack : \", len(barrackses))\n",
    "                supply_depot_xy = (22, 26) if self.base_top_left else (35, 42)\n",
    "                ccs = self.get_my_units_by_type(obs, units.Terran.CommandCenter)\n",
    "                if len(ccs) > 0:\n",
    "                    mean_x, mean_y = self.getMeanLocation(ccs)\n",
    "                    barracks_xy = (22, 21) if self.base_top_left else (35, 45)\n",
    "                    if len(scvs) > 0:\n",
    "                        scv = random.choice(scvs)\n",
    "                        x = random.randint(mean_x - 15, mean_x + 15)\n",
    "                        y = random.randint(mean_y - 10, mean_y + 10)\n",
    "                        #                     print(\"build_supply\", (x,y))\n",
    "                        return actions.RAW_FUNCTIONS.Build_SupplyDepot_pt(\n",
    "                            \"now\", scv.tag, (x, y))\n",
    "        return actions.RAW_FUNCTIONS.no_op()\n",
    "\n",
    "    def build_barracks(self, obs):\n",
    "        supply_depots = self.get_my_units_by_type(obs, units.Terran.SupplyDepot)\n",
    "        barrackses = self.get_my_units_by_type(obs, units.Terran.Barracks)\n",
    "        scvs = self.get_my_units_by_type(obs, units.Terran.SCV)\n",
    "        barrack_ratio = len(supply_depots) - len(barrackses)\n",
    "        #         print(\"build barracks\", obs.observation.player.minerals, barrack_ratio)\n",
    "        if (obs.observation.player.minerals >= 150 and len(barrackses) < 15):\n",
    "            if (len(supply_depots) > 0 and barrack_ratio >= 0):\n",
    "                ccs = self.get_my_units_by_type(obs, units.Terran.CommandCenter)\n",
    "                if len(ccs) > 0:\n",
    "                    mean_x, mean_y = self.getMeanLocation(ccs)\n",
    "                    if len(scvs) > 0:\n",
    "                        scv = random.choice(scvs)\n",
    "                        x = random.randint(mean_x - 15, mean_x + 15)\n",
    "                        y = random.randint(mean_y - 12, mean_y + 12)\n",
    "                        #                 print(\"build_barrack\", )\n",
    "                        return actions.RAW_FUNCTIONS.Build_Barracks_pt(\"now\", scv.tag, (x, y))\n",
    "        return actions.RAW_FUNCTIONS.no_op()\n",
    "\n",
    "    def train_marine(self, obs):\n",
    "        completed_barrackses = self.get_my_completed_units_by_type(obs, units.Terran.Barracks)\n",
    "        free_supply = (obs.observation.player.food_cap - obs.observation.player.food_used)\n",
    "        if (len(completed_barrackses) > 0 and obs.observation.player.minerals >= 100 and free_supply > 0):\n",
    "            barracks = self.get_my_units_by_type(obs, units.Terran.Barracks)[0]\n",
    "            if barracks.order_length < 5:\n",
    "                return actions.RAW_FUNCTIONS.Train_Marine_quick(\"now\", barracks.tag)\n",
    "        return actions.RAW_FUNCTIONS.no_op()\n",
    "\n",
    "    def attack(self, obs):\n",
    "        marines = self.get_my_units_by_type(obs, units.Terran.Marine)\n",
    "        if len(marines) > 3:\n",
    "\n",
    "            attack_xy = (38, 44) if self.base_top_left else (19, 23)\n",
    "            distances = self.get_distances(obs, marines, attack_xy)\n",
    "            # print(distances)\n",
    "            # print(np.argmax(distances))\n",
    "            # print(marine)\n",
    "            x_offset = random.randint(-12, 12)\n",
    "            y_offset = random.randint(-7, 7)\n",
    "            return actions.RAW_FUNCTIONS.Attack_pt(\n",
    "                \"now\", [unit.tag for unit in marines], (attack_xy[0] + x_offset, attack_xy[1] + y_offset))\n",
    "        return actions.RAW_FUNCTIONS.no_op()\n",
    "\n",
    "\n",
    "class TerranRandomAgent(TerranAgentWithRawActsAndRawObs):\n",
    "    def step(self, obs):\n",
    "        super(TerranRandomAgent, self).step(obs)\n",
    "        action = random.choice(self.actions)\n",
    "        return getattr(self, action)(obs)"
   ]
  },
  {
   "cell_type": "markdown",
   "metadata": {},
   "source": [
    "### Hyperparameter\n",
    "\n",
    "하이퍼파라미터는 심층강화학습 알고리즘에서 성능에 매우 큰 영향을 미칩니다.\n",
    "이 실험에 쓰인 하이퍼파라미터는 https://github.com/chucnorrisful/dqn 실험에서 제안된 값들을 참고하였습니다.\n",
    "- self.epsilon = max(self.eps_min, self.eps_max - self.eps_min * (self.episode_count / 50))"
   ]
  },
  {
   "cell_type": "code",
   "execution_count": null,
   "metadata": {},
   "outputs": [
    {
     "name": "stderr",
     "output_type": "stream",
     "text": [
      "I0924 00:05:48.254783 140688196453760 sc_process.py:135] Launching SC2: /home/jupyter/StarCraftII/Versions/Base59877/SC2_x64 -listen 127.0.0.1 -port 24377 -dataDir /home/jupyter/StarCraftII/ -tempDir /tmp/sc-3x6i_o00/\n",
      "I0924 00:05:48.341655 140688196453760 remote_controller.py:167] Connecting to: ws://127.0.0.1:24377/sc2api, attempt: 0, running: True\n"
     ]
    },
    {
     "name": "stdout",
     "output_type": "stream",
     "text": [
      "Bot\n",
      "[Agent(race=[<Race.terran: 1>], name='<unknown>'), Bot(race=[<Race.terran: 1>], difficulty=<Difficulty.medium: 3>, build=[<BotBuild.random: 1>])]\n"
     ]
    },
    {
     "name": "stderr",
     "output_type": "stream",
     "text": [
      "I0924 00:05:49.345455 140688196453760 remote_controller.py:167] Connecting to: ws://127.0.0.1:24377/sc2api, attempt: 1, running: True\n",
      "I0924 00:05:50.348520 140688196453760 remote_controller.py:167] Connecting to: ws://127.0.0.1:24377/sc2api, attempt: 2, running: True\n",
      "I0924 00:05:56.286703 140688196453760 sc2_env.py:314] Environment is ready\n",
      "I0924 00:05:56.297224 140688196453760 sc2_env.py:507] Starting episode 1: [terran, terran] on Simple64\n",
      "I0924 00:07:49.534119 140688196453760 sc2_env.py:725] Episode 1 finished after 16080 game steps. Outcome: [-1], reward: [-1], score: [65]\n"
     ]
    },
    {
     "name": "stdout",
     "output_type": "stream",
     "text": [
      "barracks :  0  supply :  0\n",
      "marines :  0\n",
      "Episode :    1 | Cumulative Reward :   -1 | Epsilon : 0.900\n"
     ]
    },
    {
     "name": "stderr",
     "output_type": "stream",
     "text": [
      "I0924 00:07:52.878456 140688196453760 sc2_env.py:507] Starting episode 2: [terran, terran] on Simple64\n",
      "I0924 00:09:55.672523 140688196453760 sc2_env.py:725] Episode 2 finished after 17880 game steps. Outcome: [-1], reward: [-1], score: [260]\n"
     ]
    },
    {
     "name": "stdout",
     "output_type": "stream",
     "text": [
      "barracks :  0  supply :  0\n",
      "marines :  0\n",
      "Episode :    2 | Cumulative Reward :   -1 | Epsilon : 0.899\n"
     ]
    },
    {
     "name": "stderr",
     "output_type": "stream",
     "text": [
      "I0924 00:09:59.043756 140688196453760 sc2_env.py:507] Starting episode 3: [terran, terran] on Simple64\n",
      "I0924 00:11:37.552018 140688196453760 sc2_env.py:725] Episode 3 finished after 14560 game steps. Outcome: [-1], reward: [-1], score: [290]\n"
     ]
    },
    {
     "name": "stdout",
     "output_type": "stream",
     "text": [
      "barracks :  0  supply :  0\n",
      "marines :  0\n",
      "Episode :    3 | Cumulative Reward :   -1 | Epsilon : 0.899\n"
     ]
    },
    {
     "name": "stderr",
     "output_type": "stream",
     "text": [
      "I0924 00:11:40.897291 140688196453760 sc2_env.py:507] Starting episode 4: [terran, terran] on Simple64\n",
      "I0924 00:14:06.955365 140688196453760 sc2_env.py:725] Episode 4 finished after 20080 game steps. Outcome: [-1], reward: [-1], score: [665]\n"
     ]
    },
    {
     "name": "stdout",
     "output_type": "stream",
     "text": [
      "barracks :  0  supply :  0\n",
      "marines :  0\n",
      "Episode :    4 | Cumulative Reward :   -1 | Epsilon : 0.898\n"
     ]
    },
    {
     "name": "stderr",
     "output_type": "stream",
     "text": [
      "I0924 00:14:10.306294 140688196453760 sc2_env.py:507] Starting episode 5: [terran, terran] on Simple64\n",
      "I0924 00:16:57.809493 140688196453760 sc2_env.py:725] Episode 5 finished after 20872 game steps. Outcome: [-1], reward: [-1], score: [245]\n"
     ]
    },
    {
     "name": "stdout",
     "output_type": "stream",
     "text": [
      "barracks :  0  supply :  0\n",
      "marines :  0\n",
      "Episode :    5 | Cumulative Reward :   -1 | Epsilon : 0.898\n"
     ]
    },
    {
     "name": "stderr",
     "output_type": "stream",
     "text": [
      "I0924 00:17:01.138025 140688196453760 sc2_env.py:507] Starting episode 6: [terran, terran] on Simple64\n",
      "I0924 00:19:40.189448 140688196453760 sc2_env.py:725] Episode 6 finished after 19960 game steps. Outcome: [-1], reward: [-1], score: [160]\n"
     ]
    },
    {
     "name": "stdout",
     "output_type": "stream",
     "text": [
      "barracks :  0  supply :  0\n",
      "marines :  0\n",
      "Episode :    6 | Cumulative Reward :   -1 | Epsilon : 0.897\n"
     ]
    },
    {
     "name": "stderr",
     "output_type": "stream",
     "text": [
      "I0924 00:19:43.590170 140688196453760 sc2_env.py:507] Starting episode 7: [terran, terran] on Simple64\n",
      "I0924 00:21:39.152258 140688196453760 sc2_env.py:725] Episode 7 finished after 16376 game steps. Outcome: [-1], reward: [-1], score: [635]\n"
     ]
    },
    {
     "name": "stdout",
     "output_type": "stream",
     "text": [
      "barracks :  0  supply :  0\n",
      "marines :  0\n",
      "Episode :    7 | Cumulative Reward :   -1 | Epsilon : 0.896\n"
     ]
    },
    {
     "name": "stderr",
     "output_type": "stream",
     "text": [
      "I0924 00:21:42.525231 140688196453760 sc2_env.py:507] Starting episode 8: [terran, terran] on Simple64\n",
      "I0924 00:21:53.282989 140688196453760 sc2_env.py:752] Environment Close\n",
      "I0924 00:21:53.285248 140688196453760 sc_process.py:232] Shutdown gracefully.\n",
      "I0924 00:21:53.285917 140688196453760 sc_process.py:210] Shutdown with return code: -2\n",
      "I0924 00:23:43.155565 140688196453760 sc2_env.py:725] Episode 8 finished after 16672 game steps. Outcome: [-1], reward: [-1], score: [145]\n"
     ]
    },
    {
     "name": "stdout",
     "output_type": "stream",
     "text": [
      "barracks :  0  supply :  0\n",
      "marines :  0\n",
      "Episode :    8 | Cumulative Reward :   -1 | Epsilon : 0.896\n"
     ]
    },
    {
     "name": "stderr",
     "output_type": "stream",
     "text": [
      "I0924 00:23:46.504496 140688196453760 sc2_env.py:507] Starting episode 9: [terran, terran] on Simple64\n",
      "I0924 00:28:01.751894 140688196453760 sc2_env.py:725] Episode 9 finished after 28800 game steps. Outcome: [0], reward: [0], score: [10555]\n"
     ]
    },
    {
     "name": "stdout",
     "output_type": "stream",
     "text": [
      "barracks :  6  supply :  19\n",
      "marines :  133\n",
      "Episode :    9 | Cumulative Reward :    0 | Epsilon : 0.895\n"
     ]
    },
    {
     "name": "stderr",
     "output_type": "stream",
     "text": [
      "I0924 00:28:05.152161 140688196453760 sc2_env.py:507] Starting episode 10: [terran, terran] on Simple64\n",
      "I0924 00:30:13.046583 140688196453760 sc2_env.py:725] Episode 10 finished after 17528 game steps. Outcome: [-1], reward: [-1], score: [270]\n"
     ]
    },
    {
     "name": "stdout",
     "output_type": "stream",
     "text": [
      "barracks :  0  supply :  0\n",
      "marines :  0\n",
      "Episode :   10 | Cumulative Reward :   -1 | Epsilon : 0.895\n"
     ]
    },
    {
     "name": "stderr",
     "output_type": "stream",
     "text": [
      "I0924 00:30:16.380347 140688196453760 sc2_env.py:507] Starting episode 11: [terran, terran] on Simple64\n",
      "I0924 00:30:57.002555 140688196453760 sc2_env.py:725] Episode 11 finished after 7712 game steps. Outcome: [1], reward: [1], score: [3710]\n"
     ]
    },
    {
     "name": "stdout",
     "output_type": "stream",
     "text": [
      "barracks :  5  supply :  6\n",
      "marines :  23\n",
      "Episode :   11 | Cumulative Reward :    1 | Epsilon : 0.894\n"
     ]
    },
    {
     "name": "stderr",
     "output_type": "stream",
     "text": [
      "I0924 00:31:00.350357 140688196453760 sc2_env.py:507] Starting episode 12: [terran, terran] on Simple64\n",
      "I0924 00:32:11.089972 140688196453760 sc2_env.py:725] Episode 12 finished after 11512 game steps. Outcome: [-1], reward: [-1], score: [680]\n"
     ]
    },
    {
     "name": "stdout",
     "output_type": "stream",
     "text": [
      "barracks :  0  supply :  0\n",
      "marines :  0\n",
      "Episode :   12 | Cumulative Reward :   -1 | Epsilon : 0.893\n"
     ]
    },
    {
     "name": "stderr",
     "output_type": "stream",
     "text": [
      "I0924 00:32:14.449375 140688196453760 sc2_env.py:507] Starting episode 13: [terran, terran] on Simple64\n",
      "I0924 00:33:06.898912 140688196453760 sc2_env.py:725] Episode 13 finished after 9432 game steps. Outcome: [1], reward: [1], score: [4345]\n"
     ]
    },
    {
     "name": "stdout",
     "output_type": "stream",
     "text": [
      "barracks :  5  supply :  7\n",
      "marines :  32\n",
      "Episode :   13 | Cumulative Reward :    1 | Epsilon : 0.893\n"
     ]
    },
    {
     "name": "stderr",
     "output_type": "stream",
     "text": [
      "I0924 00:33:10.236108 140688196453760 sc2_env.py:507] Starting episode 14: [terran, terran] on Simple64\n",
      "I0924 00:34:49.106558 140688196453760 sc2_env.py:725] Episode 14 finished after 14456 game steps. Outcome: [-1], reward: [-1], score: [860]\n"
     ]
    },
    {
     "name": "stdout",
     "output_type": "stream",
     "text": [
      "barracks :  0  supply :  0\n",
      "marines :  0\n",
      "Episode :   14 | Cumulative Reward :   -1 | Epsilon : 0.892\n"
     ]
    },
    {
     "name": "stderr",
     "output_type": "stream",
     "text": [
      "I0924 00:34:52.481085 140688196453760 sc2_env.py:507] Starting episode 15: [terran, terran] on Simple64\n",
      "I0924 00:36:37.413783 140688196453760 sc2_env.py:725] Episode 15 finished after 15128 game steps. Outcome: [-1], reward: [-1], score: [140]\n"
     ]
    },
    {
     "name": "stdout",
     "output_type": "stream",
     "text": [
      "barracks :  0  supply :  0\n",
      "marines :  0\n",
      "Episode :   15 | Cumulative Reward :   -1 | Epsilon : 0.892\n"
     ]
    },
    {
     "name": "stderr",
     "output_type": "stream",
     "text": [
      "I0924 00:36:40.768701 140688196453760 sc2_env.py:507] Starting episode 16: [terran, terran] on Simple64\n",
      "I0924 00:38:21.476430 140688196453760 sc2_env.py:725] Episode 16 finished after 14712 game steps. Outcome: [-1], reward: [-1], score: [220]\n"
     ]
    },
    {
     "name": "stdout",
     "output_type": "stream",
     "text": [
      "barracks :  0  supply :  0\n",
      "marines :  0\n",
      "Episode :   16 | Cumulative Reward :   -1 | Epsilon : 0.891\n"
     ]
    },
    {
     "name": "stderr",
     "output_type": "stream",
     "text": [
      "I0924 00:38:24.906723 140688196453760 sc2_env.py:507] Starting episode 17: [terran, terran] on Simple64\n",
      "I0924 00:39:13.240166 140688196453760 sc2_env.py:725] Episode 17 finished after 8680 game steps. Outcome: [1], reward: [1], score: [4010]\n"
     ]
    },
    {
     "name": "stdout",
     "output_type": "stream",
     "text": [
      "barracks :  5  supply :  6\n",
      "marines :  29\n",
      "Episode :   17 | Cumulative Reward :    1 | Epsilon : 0.890\n"
     ]
    },
    {
     "name": "stderr",
     "output_type": "stream",
     "text": [
      "I0924 00:39:16.578634 140688196453760 sc2_env.py:507] Starting episode 18: [terran, terran] on Simple64\n",
      "I0924 00:40:02.744765 140688196453760 sc2_env.py:725] Episode 18 finished after 8328 game steps. Outcome: [1], reward: [1], score: [4355]\n"
     ]
    },
    {
     "name": "stdout",
     "output_type": "stream",
     "text": [
      "barracks :  4  supply :  7\n",
      "marines :  37\n",
      "Episode :   18 | Cumulative Reward :    1 | Epsilon : 0.890\n"
     ]
    },
    {
     "name": "stderr",
     "output_type": "stream",
     "text": [
      "I0924 00:40:06.110075 140688196453760 sc2_env.py:507] Starting episode 19: [terran, terran] on Simple64\n",
      "I0924 00:41:41.569361 140688196453760 sc2_env.py:725] Episode 19 finished after 14176 game steps. Outcome: [-1], reward: [-1], score: [905]\n"
     ]
    },
    {
     "name": "stdout",
     "output_type": "stream",
     "text": [
      "barracks :  0  supply :  0\n",
      "marines :  0\n",
      "Episode :   19 | Cumulative Reward :   -1 | Epsilon : 0.889\n"
     ]
    },
    {
     "name": "stderr",
     "output_type": "stream",
     "text": [
      "I0924 00:41:44.901389 140688196453760 sc2_env.py:507] Starting episode 20: [terran, terran] on Simple64\n",
      "I0924 00:43:46.139378 140688196453760 sc2_env.py:725] Episode 20 finished after 17488 game steps. Outcome: [-1], reward: [-1], score: [50]\n"
     ]
    },
    {
     "name": "stdout",
     "output_type": "stream",
     "text": [
      "barracks :  0  supply :  0\n",
      "marines :  0\n",
      "Episode :   20 | Cumulative Reward :   -1 | Epsilon : 0.889\n"
     ]
    },
    {
     "name": "stderr",
     "output_type": "stream",
     "text": [
      "I0924 00:43:49.469394 140688196453760 sc2_env.py:507] Starting episode 21: [terran, terran] on Simple64\n",
      "I0924 00:45:01.227105 140688196453760 sc2_env.py:725] Episode 21 finished after 12488 game steps. Outcome: [1], reward: [1], score: [4370]\n"
     ]
    },
    {
     "name": "stdout",
     "output_type": "stream",
     "text": [
      "barracks :  6  supply :  7\n",
      "marines :  32\n",
      "Episode :   21 | Cumulative Reward :    1 | Epsilon : 0.888\n"
     ]
    },
    {
     "name": "stderr",
     "output_type": "stream",
     "text": [
      "I0924 00:45:04.549297 140688196453760 sc2_env.py:507] Starting episode 22: [terran, terran] on Simple64\n",
      "I0924 00:47:07.380659 140688196453760 sc2_env.py:725] Episode 22 finished after 17064 game steps. Outcome: [-1], reward: [-1], score: [855]\n"
     ]
    },
    {
     "name": "stdout",
     "output_type": "stream",
     "text": [
      "barracks :  0  supply :  0\n",
      "marines :  0\n",
      "Episode :   22 | Cumulative Reward :   -1 | Epsilon : 0.887\n"
     ]
    },
    {
     "name": "stderr",
     "output_type": "stream",
     "text": [
      "I0924 00:47:10.722633 140688196453760 sc2_env.py:507] Starting episode 23: [terran, terran] on Simple64\n",
      "I0924 00:48:46.691484 140688196453760 sc2_env.py:725] Episode 23 finished after 14464 game steps. Outcome: [-1], reward: [-1], score: [610]\n"
     ]
    },
    {
     "name": "stdout",
     "output_type": "stream",
     "text": [
      "barracks :  0  supply :  0\n",
      "marines :  0\n",
      "Episode :   23 | Cumulative Reward :   -1 | Epsilon : 0.887\n"
     ]
    },
    {
     "name": "stderr",
     "output_type": "stream",
     "text": [
      "I0924 00:48:50.024165 140688196453760 sc2_env.py:507] Starting episode 24: [terran, terran] on Simple64\n",
      "I0924 00:52:26.216886 140688196453760 sc2_env.py:725] Episode 25 finished after 15240 game steps. Outcome: [-1], reward: [-1], score: [240]\n"
     ]
    },
    {
     "name": "stdout",
     "output_type": "stream",
     "text": [
      "barracks :  0  supply :  0\n",
      "marines :  0\n",
      "Episode :   25 | Cumulative Reward :   -1 | Epsilon : 0.886\n"
     ]
    },
    {
     "name": "stderr",
     "output_type": "stream",
     "text": [
      "I0924 00:52:29.541810 140688196453760 sc2_env.py:507] Starting episode 26: [terran, terran] on Simple64\n",
      "I0924 00:53:29.506673 140688196453760 sc2_env.py:725] Episode 26 finished after 10496 game steps. Outcome: [1], reward: [1], score: [4265]\n"
     ]
    },
    {
     "name": "stdout",
     "output_type": "stream",
     "text": [
      "barracks :  6  supply :  7\n",
      "marines :  30\n",
      "Episode :   26 | Cumulative Reward :    1 | Epsilon : 0.885\n"
     ]
    },
    {
     "name": "stderr",
     "output_type": "stream",
     "text": [
      "I0924 00:53:32.859525 140688196453760 sc2_env.py:507] Starting episode 27: [terran, terran] on Simple64\n",
      "I0924 00:55:06.388327 140688196453760 sc2_env.py:725] Episode 27 finished after 13768 game steps. Outcome: [-1], reward: [-1], score: [465]\n"
     ]
    },
    {
     "name": "stdout",
     "output_type": "stream",
     "text": [
      "barracks :  0  supply :  0\n",
      "marines :  0\n",
      "Episode :   27 | Cumulative Reward :   -1 | Epsilon : 0.884\n"
     ]
    },
    {
     "name": "stderr",
     "output_type": "stream",
     "text": [
      "I0924 00:55:09.720254 140688196453760 sc2_env.py:507] Starting episode 28: [terran, terran] on Simple64\n",
      "I0924 00:59:07.193279 140688196453760 sc2_env.py:725] Episode 28 finished after 28800 game steps. Outcome: [0], reward: [0], score: [10585]\n"
     ]
    },
    {
     "name": "stdout",
     "output_type": "stream",
     "text": [
      "barracks :  8  supply :  19\n",
      "marines :  128\n",
      "Episode :   28 | Cumulative Reward :    0 | Epsilon : 0.884\n"
     ]
    },
    {
     "name": "stderr",
     "output_type": "stream",
     "text": [
      "I0924 00:59:10.558569 140688196453760 sc2_env.py:507] Starting episode 29: [terran, terran] on Simple64\n",
      "I0924 01:00:59.193709 140688196453760 sc2_env.py:725] Episode 29 finished after 15712 game steps. Outcome: [-1], reward: [-1], score: [795]\n"
     ]
    },
    {
     "name": "stdout",
     "output_type": "stream",
     "text": [
      "barracks :  0  supply :  0\n",
      "marines :  0\n",
      "Episode :   29 | Cumulative Reward :   -1 | Epsilon : 0.883\n"
     ]
    },
    {
     "name": "stderr",
     "output_type": "stream",
     "text": [
      "I0924 01:01:02.565574 140688196453760 sc2_env.py:507] Starting episode 30: [terran, terran] on Simple64\n",
      "I0924 01:02:15.670055 140688196453760 sc2_env.py:725] Episode 30 finished after 12280 game steps. Outcome: [-1], reward: [-1], score: [405]\n"
     ]
    },
    {
     "name": "stdout",
     "output_type": "stream",
     "text": [
      "barracks :  0  supply :  0\n",
      "marines :  0\n",
      "Episode :   30 | Cumulative Reward :   -1 | Epsilon : 0.883\n"
     ]
    },
    {
     "name": "stderr",
     "output_type": "stream",
     "text": [
      "I0924 01:02:19.019183 140688196453760 sc2_env.py:507] Starting episode 31: [terran, terran] on Simple64\n",
      "I0924 01:03:08.369893 140688196453760 sc2_env.py:725] Episode 31 finished after 9024 game steps. Outcome: [1], reward: [1], score: [3900]\n"
     ]
    },
    {
     "name": "stdout",
     "output_type": "stream",
     "text": [
      "barracks :  4  supply :  6\n",
      "marines :  29\n",
      "Episode :   31 | Cumulative Reward :    1 | Epsilon : 0.882\n"
     ]
    },
    {
     "name": "stderr",
     "output_type": "stream",
     "text": [
      "I0924 01:03:11.718670 140688196453760 sc2_env.py:507] Starting episode 32: [terran, terran] on Simple64\n",
      "I0924 01:05:02.703867 140688196453760 sc2_env.py:725] Episode 32 finished after 15480 game steps. Outcome: [-1], reward: [-1], score: [465]\n"
     ]
    },
    {
     "name": "stdout",
     "output_type": "stream",
     "text": [
      "barracks :  0  supply :  0\n",
      "marines :  0\n",
      "Episode :   32 | Cumulative Reward :   -1 | Epsilon : 0.881\n"
     ]
    },
    {
     "name": "stderr",
     "output_type": "stream",
     "text": [
      "I0924 01:05:06.038969 140688196453760 sc2_env.py:507] Starting episode 33: [terran, terran] on Simple64\n",
      "I0924 01:05:49.240981 140688196453760 sc2_env.py:725] Episode 33 finished after 8120 game steps. Outcome: [1], reward: [1], score: [3835]\n"
     ]
    },
    {
     "name": "stdout",
     "output_type": "stream",
     "text": [
      "barracks :  4  supply :  6\n",
      "marines :  27\n",
      "Episode :   33 | Cumulative Reward :    1 | Epsilon : 0.881\n"
     ]
    },
    {
     "name": "stderr",
     "output_type": "stream",
     "text": [
      "I0924 01:05:52.607098 140688196453760 sc2_env.py:507] Starting episode 34: [terran, terran] on Simple64\n",
      "I0924 01:08:03.446643 140688196453760 sc2_env.py:725] Episode 34 finished after 17616 game steps. Outcome: [-1], reward: [-1], score: [530]\n"
     ]
    },
    {
     "name": "stdout",
     "output_type": "stream",
     "text": [
      "barracks :  0  supply :  0\n",
      "marines :  0\n",
      "Episode :   34 | Cumulative Reward :   -1 | Epsilon : 0.880\n"
     ]
    },
    {
     "name": "stderr",
     "output_type": "stream",
     "text": [
      "I0924 01:08:06.801508 140688196453760 sc2_env.py:507] Starting episode 35: [terran, terran] on Simple64\n",
      "I0924 01:09:53.004486 140688196453760 sc2_env.py:725] Episode 35 finished after 15184 game steps. Outcome: [-1], reward: [-1], score: [675]\n"
     ]
    },
    {
     "name": "stdout",
     "output_type": "stream",
     "text": [
      "barracks :  0  supply :  0\n",
      "marines :  0\n",
      "Episode :   35 | Cumulative Reward :   -1 | Epsilon : 0.880\n"
     ]
    },
    {
     "name": "stderr",
     "output_type": "stream",
     "text": [
      "I0924 01:09:56.342802 140688196453760 sc2_env.py:507] Starting episode 36: [terran, terran] on Simple64\n",
      "I0924 01:11:54.405695 140688196453760 sc2_env.py:725] Episode 36 finished after 16960 game steps. Outcome: [-1], reward: [-1], score: [460]\n"
     ]
    },
    {
     "name": "stdout",
     "output_type": "stream",
     "text": [
      "barracks :  0  supply :  0\n",
      "marines :  0\n",
      "Episode :   36 | Cumulative Reward :   -1 | Epsilon : 0.879\n"
     ]
    },
    {
     "name": "stderr",
     "output_type": "stream",
     "text": [
      "I0924 01:11:57.762572 140688196453760 sc2_env.py:507] Starting episode 37: [terran, terran] on Simple64\n",
      "I0924 01:13:47.491535 140688196453760 sc2_env.py:725] Episode 37 finished after 15704 game steps. Outcome: [-1], reward: [-1], score: [250]\n"
     ]
    },
    {
     "name": "stdout",
     "output_type": "stream",
     "text": [
      "barracks :  0  supply :  0\n",
      "marines :  0\n",
      "Episode :   37 | Cumulative Reward :   -1 | Epsilon : 0.878\n"
     ]
    },
    {
     "name": "stderr",
     "output_type": "stream",
     "text": [
      "I0924 01:13:50.858415 140688196453760 sc2_env.py:507] Starting episode 38: [terran, terran] on Simple64\n",
      "I0924 01:15:51.314871 140688196453760 sc2_env.py:725] Episode 38 finished after 17568 game steps. Outcome: [-1], reward: [-1], score: [885]\n"
     ]
    },
    {
     "name": "stdout",
     "output_type": "stream",
     "text": [
      "barracks :  0  supply :  0\n",
      "marines :  0\n",
      "Episode :   38 | Cumulative Reward :   -1 | Epsilon : 0.878\n"
     ]
    },
    {
     "name": "stderr",
     "output_type": "stream",
     "text": [
      "I0924 01:15:54.669905 140688196453760 sc2_env.py:507] Starting episode 39: [terran, terran] on Simple64\n",
      "I0924 01:16:36.587032 140688196453760 sc2_env.py:725] Episode 39 finished after 7904 game steps. Outcome: [1], reward: [1], score: [3645]\n"
     ]
    },
    {
     "name": "stdout",
     "output_type": "stream",
     "text": [
      "barracks :  3  supply :  6\n",
      "marines :  27\n",
      "Episode :   39 | Cumulative Reward :    1 | Epsilon : 0.877\n"
     ]
    },
    {
     "name": "stderr",
     "output_type": "stream",
     "text": [
      "I0924 01:16:39.923399 140688196453760 sc2_env.py:507] Starting episode 40: [terran, terran] on Simple64\n",
      "I0924 01:18:24.871108 140688196453760 sc2_env.py:725] Episode 40 finished after 15624 game steps. Outcome: [-1], reward: [-1], score: [65]\n"
     ]
    },
    {
     "name": "stdout",
     "output_type": "stream",
     "text": [
      "barracks :  0  supply :  0\n",
      "marines :  0\n",
      "Episode :   40 | Cumulative Reward :   -1 | Epsilon : 0.877\n"
     ]
    },
    {
     "name": "stderr",
     "output_type": "stream",
     "text": [
      "I0924 01:18:28.256132 140688196453760 sc2_env.py:507] Starting episode 41: [terran, terran] on Simple64\n",
      "I0924 01:19:47.423812 140688196453760 sc2_env.py:725] Episode 41 finished after 12520 game steps. Outcome: [-1], reward: [-1], score: [430]\n"
     ]
    },
    {
     "name": "stdout",
     "output_type": "stream",
     "text": [
      "barracks :  0  supply :  0\n",
      "marines :  0\n",
      "Episode :   41 | Cumulative Reward :   -1 | Epsilon : 0.876\n"
     ]
    },
    {
     "name": "stderr",
     "output_type": "stream",
     "text": [
      "I0924 01:19:50.802155 140688196453760 sc2_env.py:507] Starting episode 42: [terran, terran] on Simple64\n",
      "I0924 01:23:57.462161 140688196453760 sc2_env.py:725] Episode 42 finished after 28800 game steps. Outcome: [0], reward: [0], score: [11345]\n"
     ]
    },
    {
     "name": "stdout",
     "output_type": "stream",
     "text": [
      "barracks :  5  supply :  20\n",
      "marines :  150\n",
      "Episode :   42 | Cumulative Reward :    0 | Epsilon : 0.875\n"
     ]
    },
    {
     "name": "stderr",
     "output_type": "stream",
     "text": [
      "I0924 01:24:00.861050 140688196453760 sc2_env.py:507] Starting episode 43: [terran, terran] on Simple64\n",
      "I0924 01:25:30.920643 140688196453760 sc2_env.py:725] Episode 43 finished after 14200 game steps. Outcome: [1], reward: [1], score: [4685]\n"
     ]
    },
    {
     "name": "stdout",
     "output_type": "stream",
     "text": [
      "barracks :  6  supply :  7\n",
      "marines :  38\n",
      "Episode :   43 | Cumulative Reward :    1 | Epsilon : 0.875\n"
     ]
    },
    {
     "name": "stderr",
     "output_type": "stream",
     "text": [
      "I0924 01:25:34.258073 140688196453760 sc2_env.py:507] Starting episode 44: [terran, terran] on Simple64\n",
      "I0924 01:27:17.090780 140688196453760 sc2_env.py:725] Episode 44 finished after 14792 game steps. Outcome: [-1], reward: [-1], score: [600]\n"
     ]
    },
    {
     "name": "stdout",
     "output_type": "stream",
     "text": [
      "barracks :  0  supply :  0\n",
      "marines :  0\n",
      "Episode :   44 | Cumulative Reward :   -1 | Epsilon : 0.874\n"
     ]
    },
    {
     "name": "stderr",
     "output_type": "stream",
     "text": [
      "I0924 01:27:20.425814 140688196453760 sc2_env.py:507] Starting episode 45: [terran, terran] on Simple64\n",
      "I0924 01:28:48.635400 140688196453760 sc2_env.py:725] Episode 45 finished after 13704 game steps. Outcome: [-1], reward: [-1], score: [65]\n"
     ]
    },
    {
     "name": "stdout",
     "output_type": "stream",
     "text": [
      "barracks :  0  supply :  0\n",
      "marines :  0\n",
      "Episode :   45 | Cumulative Reward :   -1 | Epsilon : 0.874\n"
     ]
    },
    {
     "name": "stderr",
     "output_type": "stream",
     "text": [
      "I0924 01:28:51.956959 140688196453760 sc2_env.py:507] Starting episode 46: [terran, terran] on Simple64\n",
      "I0924 01:30:33.885133 140688196453760 sc2_env.py:725] Episode 46 finished after 14872 game steps. Outcome: [-1], reward: [-1], score: [400]\n"
     ]
    },
    {
     "name": "stdout",
     "output_type": "stream",
     "text": [
      "barracks :  0  supply :  0\n",
      "marines :  0\n",
      "Episode :   46 | Cumulative Reward :   -1 | Epsilon : 0.873\n"
     ]
    },
    {
     "name": "stderr",
     "output_type": "stream",
     "text": [
      "I0924 01:30:37.215812 140688196453760 sc2_env.py:507] Starting episode 47: [terran, terran] on Simple64\n",
      "I0924 01:32:44.154440 140688196453760 sc2_env.py:725] Episode 47 finished after 18384 game steps. Outcome: [-1], reward: [-1], score: [310]\n"
     ]
    },
    {
     "name": "stdout",
     "output_type": "stream",
     "text": [
      "barracks :  0  supply :  0\n",
      "marines :  0\n",
      "Episode :   47 | Cumulative Reward :   -1 | Epsilon : 0.872\n"
     ]
    },
    {
     "name": "stderr",
     "output_type": "stream",
     "text": [
      "I0924 01:32:47.498523 140688196453760 sc2_env.py:507] Starting episode 48: [terran, terran] on Simple64\n",
      "I0924 01:34:27.072413 140688196453760 sc2_env.py:725] Episode 48 finished after 15040 game steps. Outcome: [-1], reward: [-1], score: [330]\n"
     ]
    },
    {
     "name": "stdout",
     "output_type": "stream",
     "text": [
      "barracks :  0  supply :  0\n",
      "marines :  0\n",
      "Episode :   48 | Cumulative Reward :   -1 | Epsilon : 0.872\n"
     ]
    },
    {
     "name": "stderr",
     "output_type": "stream",
     "text": [
      "I0924 01:34:30.409826 140688196453760 sc2_env.py:507] Starting episode 49: [terran, terran] on Simple64\n",
      "I0924 01:36:15.091205 140688196453760 sc2_env.py:725] Episode 49 finished after 15160 game steps. Outcome: [-1], reward: [-1], score: [140]\n"
     ]
    },
    {
     "name": "stdout",
     "output_type": "stream",
     "text": [
      "barracks :  0  supply :  0\n",
      "marines :  0\n",
      "Episode :   49 | Cumulative Reward :   -1 | Epsilon : 0.871\n"
     ]
    },
    {
     "name": "stderr",
     "output_type": "stream",
     "text": [
      "I0924 01:36:18.422502 140688196453760 sc2_env.py:507] Starting episode 50: [terran, terran] on Simple64\n",
      "I0924 01:37:02.988756 140688196453760 sc2_env.py:725] Episode 50 finished after 8280 game steps. Outcome: [1], reward: [1], score: [3885]\n"
     ]
    },
    {
     "name": "stdout",
     "output_type": "stream",
     "text": [
      "barracks :  5  supply :  6\n",
      "marines :  26\n",
      "Episode :   50 | Cumulative Reward :    1 | Epsilon : 0.871\n"
     ]
    },
    {
     "name": "stderr",
     "output_type": "stream",
     "text": [
      "I0924 01:37:06.317813 140688196453760 sc2_env.py:507] Starting episode 51: [terran, terran] on Simple64\n",
      "I0924 01:38:21.091768 140688196453760 sc2_env.py:725] Episode 51 finished after 12360 game steps. Outcome: [-1], reward: [-1], score: [260]\n"
     ]
    },
    {
     "name": "stdout",
     "output_type": "stream",
     "text": [
      "barracks :  0  supply :  0\n",
      "marines :  0\n",
      "Episode :   51 | Cumulative Reward :   -1 | Epsilon : 0.870\n"
     ]
    },
    {
     "name": "stderr",
     "output_type": "stream",
     "text": [
      "I0924 01:38:24.412832 140688196453760 sc2_env.py:507] Starting episode 52: [terran, terran] on Simple64\n",
      "I0924 01:42:40.919470 140688196453760 sc2_env.py:725] Episode 52 finished after 28800 game steps. Outcome: [0], reward: [0], score: [11505]\n"
     ]
    },
    {
     "name": "stdout",
     "output_type": "stream",
     "text": [
      "barracks :  5  supply :  21\n",
      "marines :  150\n",
      "Episode :   52 | Cumulative Reward :    0 | Epsilon : 0.869\n"
     ]
    },
    {
     "name": "stderr",
     "output_type": "stream",
     "text": [
      "I0924 01:42:44.299155 140688196453760 sc2_env.py:507] Starting episode 53: [terran, terran] on Simple64\n",
      "I0924 01:43:58.762134 140688196453760 sc2_env.py:725] Episode 53 finished after 12920 game steps. Outcome: [1], reward: [1], score: [5285]\n"
     ]
    },
    {
     "name": "stdout",
     "output_type": "stream",
     "text": [
      "barracks :  5  supply :  9\n",
      "marines :  48\n",
      "Episode :   53 | Cumulative Reward :    1 | Epsilon : 0.869\n"
     ]
    },
    {
     "name": "stderr",
     "output_type": "stream",
     "text": [
      "I0924 01:44:02.083584 140688196453760 sc2_env.py:507] Starting episode 54: [terran, terran] on Simple64\n",
      "I0924 01:45:33.359652 140688196453760 sc2_env.py:725] Episode 54 finished after 13496 game steps. Outcome: [-1], reward: [-1], score: [525]\n"
     ]
    },
    {
     "name": "stdout",
     "output_type": "stream",
     "text": [
      "barracks :  0  supply :  0\n",
      "marines :  0\n",
      "Episode :   54 | Cumulative Reward :   -1 | Epsilon : 0.868\n"
     ]
    },
    {
     "name": "stderr",
     "output_type": "stream",
     "text": [
      "I0924 01:45:36.678530 140688196453760 sc2_env.py:507] Starting episode 55: [terran, terran] on Simple64\n",
      "I0924 01:49:24.900091 140688196453760 sc2_env.py:725] Episode 55 finished after 28800 game steps. Outcome: [0], reward: [0], score: [9270]\n"
     ]
    },
    {
     "name": "stdout",
     "output_type": "stream",
     "text": [
      "barracks :  5  supply :  17\n",
      "marines :  113\n",
      "Episode :   55 | Cumulative Reward :    0 | Epsilon : 0.868\n"
     ]
    },
    {
     "name": "stderr",
     "output_type": "stream",
     "text": [
      "I0924 01:49:28.278054 140688196453760 sc2_env.py:507] Starting episode 56: [terran, terran] on Simple64\n",
      "I0924 01:51:19.623864 140688196453760 sc2_env.py:725] Episode 56 finished after 15784 game steps. Outcome: [-1], reward: [-1], score: [550]\n"
     ]
    },
    {
     "name": "stdout",
     "output_type": "stream",
     "text": [
      "barracks :  0  supply :  0\n",
      "marines :  0\n",
      "Episode :   56 | Cumulative Reward :   -1 | Epsilon : 0.867\n"
     ]
    },
    {
     "name": "stderr",
     "output_type": "stream",
     "text": [
      "I0924 01:51:22.988094 140688196453760 sc2_env.py:507] Starting episode 57: [terran, terran] on Simple64\n",
      "I0924 01:52:07.262476 140688196453760 sc2_env.py:725] Episode 57 finished after 8032 game steps. Outcome: [1], reward: [1], score: [3870]\n"
     ]
    },
    {
     "name": "stdout",
     "output_type": "stream",
     "text": [
      "barracks :  3  supply :  7\n",
      "marines :  31\n",
      "Episode :   57 | Cumulative Reward :    1 | Epsilon : 0.866\n"
     ]
    },
    {
     "name": "stderr",
     "output_type": "stream",
     "text": [
      "I0924 01:52:10.591387 140688196453760 sc2_env.py:507] Starting episode 58: [terran, terran] on Simple64\n",
      "I0924 01:56:22.125677 140688196453760 sc2_env.py:725] Episode 58 finished after 28800 game steps. Outcome: [0], reward: [0], score: [11170]\n"
     ]
    },
    {
     "name": "stdout",
     "output_type": "stream",
     "text": [
      "barracks :  9  supply :  19\n",
      "marines :  137\n",
      "Episode :   58 | Cumulative Reward :    0 | Epsilon : 0.866\n"
     ]
    },
    {
     "name": "stderr",
     "output_type": "stream",
     "text": [
      "I0924 01:56:25.505261 140688196453760 sc2_env.py:507] Starting episode 59: [terran, terran] on Simple64\n",
      "I0924 01:58:16.413684 140688196453760 sc2_env.py:725] Episode 59 finished after 15720 game steps. Outcome: [-1], reward: [-1], score: [280]\n"
     ]
    },
    {
     "name": "stdout",
     "output_type": "stream",
     "text": [
      "barracks :  0  supply :  0\n",
      "marines :  0\n",
      "Episode :   59 | Cumulative Reward :   -1 | Epsilon : 0.865\n"
     ]
    },
    {
     "name": "stderr",
     "output_type": "stream",
     "text": [
      "I0924 01:58:19.782868 140688196453760 sc2_env.py:507] Starting episode 60: [terran, terran] on Simple64\n",
      "I0924 02:00:03.028636 140688196453760 sc2_env.py:725] Episode 60 finished after 14624 game steps. Outcome: [-1], reward: [-1], score: [415]\n"
     ]
    },
    {
     "name": "stdout",
     "output_type": "stream",
     "text": [
      "barracks :  0  supply :  0\n",
      "marines :  0\n",
      "Episode :   60 | Cumulative Reward :   -1 | Epsilon : 0.865\n"
     ]
    },
    {
     "name": "stderr",
     "output_type": "stream",
     "text": [
      "I0924 02:00:06.376898 140688196453760 sc2_env.py:507] Starting episode 61: [terran, terran] on Simple64\n",
      "I0924 02:02:01.531120 140688196453760 sc2_env.py:725] Episode 61 finished after 15984 game steps. Outcome: [-1], reward: [-1], score: [280]\n"
     ]
    },
    {
     "name": "stdout",
     "output_type": "stream",
     "text": [
      "barracks :  0  supply :  0\n",
      "marines :  0\n",
      "Episode :   61 | Cumulative Reward :   -1 | Epsilon : 0.864\n"
     ]
    },
    {
     "name": "stderr",
     "output_type": "stream",
     "text": [
      "I0924 02:02:04.888613 140688196453760 sc2_env.py:507] Starting episode 62: [terran, terran] on Simple64\n",
      "I0924 02:04:09.161062 140688196453760 sc2_env.py:725] Episode 62 finished after 16872 game steps. Outcome: [-1], reward: [-1], score: [630]\n"
     ]
    },
    {
     "name": "stdout",
     "output_type": "stream",
     "text": [
      "barracks :  0  supply :  0\n",
      "marines :  0\n",
      "Episode :   62 | Cumulative Reward :   -1 | Epsilon : 0.863\n"
     ]
    },
    {
     "name": "stderr",
     "output_type": "stream",
     "text": [
      "I0924 02:04:12.485310 140688196453760 sc2_env.py:507] Starting episode 63: [terran, terran] on Simple64\n",
      "I0924 02:05:09.475910 140688196453760 sc2_env.py:725] Episode 63 finished after 10008 game steps. Outcome: [1], reward: [1], score: [4745]\n"
     ]
    },
    {
     "name": "stdout",
     "output_type": "stream",
     "text": [
      "barracks :  5  supply :  8\n",
      "marines :  39\n",
      "Episode :   63 | Cumulative Reward :    1 | Epsilon : 0.863\n"
     ]
    },
    {
     "name": "stderr",
     "output_type": "stream",
     "text": [
      "I0924 02:05:12.821643 140688196453760 sc2_env.py:507] Starting episode 64: [terran, terran] on Simple64\n",
      "I0924 02:06:44.753335 140688196453760 sc2_env.py:725] Episode 64 finished after 14296 game steps. Outcome: [-1], reward: [-1], score: [220]\n"
     ]
    },
    {
     "name": "stdout",
     "output_type": "stream",
     "text": [
      "barracks :  0  supply :  0\n",
      "marines :  0\n",
      "Episode :   64 | Cumulative Reward :   -1 | Epsilon : 0.862\n"
     ]
    },
    {
     "name": "stderr",
     "output_type": "stream",
     "text": [
      "I0924 02:06:48.094813 140688196453760 sc2_env.py:507] Starting episode 65: [terran, terran] on Simple64\n",
      "I0924 02:07:40.437304 140688196453760 sc2_env.py:725] Episode 65 finished after 9480 game steps. Outcome: [1], reward: [1], score: [4260]\n"
     ]
    },
    {
     "name": "stdout",
     "output_type": "stream",
     "text": [
      "barracks :  4  supply :  7\n",
      "marines :  34\n",
      "Episode :   65 | Cumulative Reward :    1 | Epsilon : 0.862\n"
     ]
    },
    {
     "name": "stderr",
     "output_type": "stream",
     "text": [
      "I0924 02:07:43.794289 140688196453760 sc2_env.py:507] Starting episode 66: [terran, terran] on Simple64\n",
      "I0924 02:09:38.540277 140688196453760 sc2_env.py:725] Episode 66 finished after 16520 game steps. Outcome: [-1], reward: [-1], score: [1070]\n"
     ]
    },
    {
     "name": "stdout",
     "output_type": "stream",
     "text": [
      "barracks :  0  supply :  0\n",
      "marines :  0\n",
      "Episode :   66 | Cumulative Reward :   -1 | Epsilon : 0.861\n"
     ]
    },
    {
     "name": "stderr",
     "output_type": "stream",
     "text": [
      "I0924 02:09:41.902228 140688196453760 sc2_env.py:507] Starting episode 67: [terran, terran] on Simple64\n",
      "I0924 02:12:34.130064 140688196453760 sc2_env.py:725] Episode 67 finished after 23576 game steps. Outcome: [-1], reward: [-1], score: [475]\n"
     ]
    },
    {
     "name": "stdout",
     "output_type": "stream",
     "text": [
      "barracks :  0  supply :  0\n",
      "marines :  0\n",
      "Episode :   67 | Cumulative Reward :   -1 | Epsilon : 0.860\n"
     ]
    },
    {
     "name": "stderr",
     "output_type": "stream",
     "text": [
      "I0924 02:12:37.465913 140688196453760 sc2_env.py:507] Starting episode 68: [terran, terran] on Simple64\n",
      "I0924 02:14:34.880785 140688196453760 sc2_env.py:725] Episode 68 finished after 17128 game steps. Outcome: [-1], reward: [-1], score: [410]\n"
     ]
    },
    {
     "name": "stdout",
     "output_type": "stream",
     "text": [
      "barracks :  0  supply :  0\n",
      "marines :  0\n",
      "Episode :   68 | Cumulative Reward :   -1 | Epsilon : 0.860\n"
     ]
    },
    {
     "name": "stderr",
     "output_type": "stream",
     "text": [
      "I0924 02:14:38.207283 140688196453760 sc2_env.py:507] Starting episode 69: [terran, terran] on Simple64\n",
      "I0924 02:18:28.387218 140688196453760 sc2_env.py:725] Episode 69 finished after 28800 game steps. Outcome: [0], reward: [0], score: [10325]\n"
     ]
    },
    {
     "name": "stdout",
     "output_type": "stream",
     "text": [
      "barracks :  7  supply :  18\n",
      "marines :  126\n",
      "Episode :   69 | Cumulative Reward :    0 | Epsilon : 0.859\n"
     ]
    },
    {
     "name": "stderr",
     "output_type": "stream",
     "text": [
      "I0924 02:18:31.767992 140688196453760 sc2_env.py:507] Starting episode 70: [terran, terran] on Simple64\n",
      "I0924 02:19:19.409889 140688196453760 sc2_env.py:725] Episode 70 finished after 8568 game steps. Outcome: [1], reward: [1], score: [4250]\n"
     ]
    },
    {
     "name": "stdout",
     "output_type": "stream",
     "text": [
      "barracks :  4  supply :  7\n",
      "marines :  35\n",
      "Episode :   70 | Cumulative Reward :    1 | Epsilon : 0.859\n"
     ]
    },
    {
     "name": "stderr",
     "output_type": "stream",
     "text": [
      "I0924 02:19:22.755157 140688196453760 sc2_env.py:507] Starting episode 71: [terran, terran] on Simple64\n",
      "I0924 02:21:04.438218 140688196453760 sc2_env.py:725] Episode 71 finished after 14920 game steps. Outcome: [-1], reward: [-1], score: [340]\n"
     ]
    },
    {
     "name": "stdout",
     "output_type": "stream",
     "text": [
      "barracks :  0  supply :  0\n",
      "marines :  0\n",
      "Episode :   71 | Cumulative Reward :   -1 | Epsilon : 0.858\n"
     ]
    },
    {
     "name": "stderr",
     "output_type": "stream",
     "text": [
      "I0924 02:21:07.786274 140688196453760 sc2_env.py:507] Starting episode 72: [terran, terran] on Simple64\n",
      "I0924 02:21:58.024603 140688196453760 sc2_env.py:725] Episode 72 finished after 9376 game steps. Outcome: [1], reward: [1], score: [4005]\n"
     ]
    },
    {
     "name": "stdout",
     "output_type": "stream",
     "text": [
      "barracks :  5  supply :  6\n",
      "marines :  27\n",
      "Episode :   72 | Cumulative Reward :    1 | Epsilon : 0.857\n"
     ]
    },
    {
     "name": "stderr",
     "output_type": "stream",
     "text": [
      "I0924 02:22:01.316688 140688196453760 sc2_env.py:507] Starting episode 73: [terran, terran] on Simple64\n",
      "I0924 02:23:37.601741 140688196453760 sc2_env.py:725] Episode 73 finished after 14640 game steps. Outcome: [-1], reward: [-1], score: [75]\n"
     ]
    },
    {
     "name": "stdout",
     "output_type": "stream",
     "text": [
      "barracks :  0  supply :  0\n",
      "marines :  0\n",
      "Episode :   73 | Cumulative Reward :   -1 | Epsilon : 0.857\n"
     ]
    },
    {
     "name": "stderr",
     "output_type": "stream",
     "text": [
      "I0924 02:23:40.918682 140688196453760 sc2_env.py:507] Starting episode 74: [terran, terran] on Simple64\n",
      "I0924 02:24:48.006433 140688196453760 sc2_env.py:725] Episode 74 finished after 10992 game steps. Outcome: [-1], reward: [-1], score: [615]\n"
     ]
    },
    {
     "name": "stdout",
     "output_type": "stream",
     "text": [
      "barracks :  0  supply :  0\n",
      "marines :  0\n",
      "Episode :   74 | Cumulative Reward :   -1 | Epsilon : 0.856\n"
     ]
    },
    {
     "name": "stderr",
     "output_type": "stream",
     "text": [
      "I0924 02:24:51.366171 140688196453760 sc2_env.py:507] Starting episode 75: [terran, terran] on Simple64\n",
      "I0924 02:26:31.980833 140688196453760 sc2_env.py:725] Episode 75 finished after 14840 game steps. Outcome: [-1], reward: [-1], score: [950]\n"
     ]
    },
    {
     "name": "stdout",
     "output_type": "stream",
     "text": [
      "barracks :  0  supply :  0\n",
      "marines :  0\n",
      "Episode :   75 | Cumulative Reward :   -1 | Epsilon : 0.856\n"
     ]
    },
    {
     "name": "stderr",
     "output_type": "stream",
     "text": [
      "I0924 02:26:35.294697 140688196453760 sc2_env.py:507] Starting episode 76: [terran, terran] on Simple64\n",
      "I0924 02:28:52.210974 140688196453760 sc2_env.py:725] Episode 76 finished after 19416 game steps. Outcome: [-1], reward: [-1], score: [205]\n"
     ]
    },
    {
     "name": "stdout",
     "output_type": "stream",
     "text": [
      "barracks :  0  supply :  0\n",
      "marines :  0\n",
      "Episode :   76 | Cumulative Reward :   -1 | Epsilon : 0.855\n"
     ]
    },
    {
     "name": "stderr",
     "output_type": "stream",
     "text": [
      "I0924 02:28:55.520056 140688196453760 sc2_env.py:507] Starting episode 77: [terran, terran] on Simple64\n",
      "I0924 02:30:48.617672 140688196453760 sc2_env.py:725] Episode 77 finished after 14872 game steps. Outcome: [-1], reward: [-1], score: [490]\n"
     ]
    },
    {
     "name": "stdout",
     "output_type": "stream",
     "text": [
      "barracks :  0  supply :  0\n",
      "marines :  0\n",
      "Episode :   77 | Cumulative Reward :   -1 | Epsilon : 0.854\n"
     ]
    },
    {
     "name": "stderr",
     "output_type": "stream",
     "text": [
      "I0924 02:30:52.024155 140688196453760 sc2_env.py:507] Starting episode 78: [terran, terran] on Simple64\n",
      "I0924 02:31:42.872309 140688196453760 sc2_env.py:725] Episode 78 finished after 9120 game steps. Outcome: [1], reward: [1], score: [4230]\n"
     ]
    },
    {
     "name": "stdout",
     "output_type": "stream",
     "text": [
      "barracks :  4  supply :  7\n",
      "marines :  34\n",
      "Episode :   78 | Cumulative Reward :    1 | Epsilon : 0.854\n"
     ]
    },
    {
     "name": "stderr",
     "output_type": "stream",
     "text": [
      "I0924 02:31:46.183109 140688196453760 sc2_env.py:507] Starting episode 79: [terran, terran] on Simple64\n",
      "I0924 02:32:47.391216 140688196453760 sc2_env.py:725] Episode 79 finished after 10960 game steps. Outcome: [1], reward: [1], score: [4210]\n"
     ]
    },
    {
     "name": "stdout",
     "output_type": "stream",
     "text": [
      "barracks :  4  supply :  7\n",
      "marines :  33\n",
      "Episode :   79 | Cumulative Reward :    1 | Epsilon : 0.853\n"
     ]
    },
    {
     "name": "stderr",
     "output_type": "stream",
     "text": [
      "I0924 02:32:50.714770 140688196453760 sc2_env.py:507] Starting episode 80: [terran, terran] on Simple64\n",
      "I0924 02:34:38.034695 140688196453760 sc2_env.py:725] Episode 80 finished after 15552 game steps. Outcome: [-1], reward: [-1], score: [460]\n"
     ]
    },
    {
     "name": "stdout",
     "output_type": "stream",
     "text": [
      "barracks :  0  supply :  0\n",
      "marines :  0\n",
      "Episode :   80 | Cumulative Reward :   -1 | Epsilon : 0.853\n"
     ]
    },
    {
     "name": "stderr",
     "output_type": "stream",
     "text": [
      "I0924 02:34:41.330433 140688196453760 sc2_env.py:507] Starting episode 81: [terran, terran] on Simple64\n",
      "I0924 02:35:20.880143 140688196453760 sc2_env.py:725] Episode 81 finished after 7592 game steps. Outcome: [1], reward: [1], score: [3540]\n"
     ]
    },
    {
     "name": "stdout",
     "output_type": "stream",
     "text": [
      "barracks :  4  supply :  5\n",
      "marines :  25\n",
      "Episode :   81 | Cumulative Reward :    1 | Epsilon : 0.852\n"
     ]
    },
    {
     "name": "stderr",
     "output_type": "stream",
     "text": [
      "I0924 02:35:24.185128 140688196453760 sc2_env.py:507] Starting episode 82: [terran, terran] on Simple64\n",
      "I0924 02:37:00.504823 140688196453760 sc2_env.py:725] Episode 82 finished after 14672 game steps. Outcome: [-1], reward: [-1], score: [55]\n"
     ]
    },
    {
     "name": "stdout",
     "output_type": "stream",
     "text": [
      "barracks :  0  supply :  0\n",
      "marines :  0\n",
      "Episode :   82 | Cumulative Reward :   -1 | Epsilon : 0.851\n"
     ]
    },
    {
     "name": "stderr",
     "output_type": "stream",
     "text": [
      "I0924 02:37:03.844034 140688196453760 sc2_env.py:507] Starting episode 83: [terran, terran] on Simple64\n",
      "I0924 02:38:40.643601 140688196453760 sc2_env.py:725] Episode 83 finished after 14352 game steps. Outcome: [-1], reward: [-1], score: [245]\n"
     ]
    },
    {
     "name": "stdout",
     "output_type": "stream",
     "text": [
      "barracks :  0  supply :  0\n",
      "marines :  0\n",
      "Episode :   83 | Cumulative Reward :   -1 | Epsilon : 0.851\n"
     ]
    },
    {
     "name": "stderr",
     "output_type": "stream",
     "text": [
      "I0924 02:38:43.983992 140688196453760 sc2_env.py:507] Starting episode 84: [terran, terran] on Simple64\n",
      "I0924 02:40:40.437494 140688196453760 sc2_env.py:725] Episode 84 finished after 15328 game steps. Outcome: [-1], reward: [-1], score: [155]\n"
     ]
    },
    {
     "name": "stdout",
     "output_type": "stream",
     "text": [
      "barracks :  0  supply :  0\n",
      "marines :  0\n",
      "Episode :   84 | Cumulative Reward :   -1 | Epsilon : 0.850\n"
     ]
    },
    {
     "name": "stderr",
     "output_type": "stream",
     "text": [
      "I0924 02:40:43.795887 140688196453760 sc2_env.py:507] Starting episode 85: [terran, terran] on Simple64\n",
      "I0924 02:45:07.981968 140688196453760 sc2_env.py:725] Episode 85 finished after 28800 game steps. Outcome: [0], reward: [0], score: [11090]\n"
     ]
    },
    {
     "name": "stdout",
     "output_type": "stream",
     "text": [
      "barracks :  7  supply :  21\n",
      "marines :  137\n",
      "Episode :   85 | Cumulative Reward :    0 | Epsilon : 0.850\n"
     ]
    },
    {
     "name": "stderr",
     "output_type": "stream",
     "text": [
      "I0924 02:45:11.293813 140688196453760 sc2_env.py:507] Starting episode 86: [terran, terran] on Simple64\n",
      "I0924 02:47:10.899235 140688196453760 sc2_env.py:725] Episode 86 finished after 17048 game steps. Outcome: [-1], reward: [-1], score: [750]\n"
     ]
    },
    {
     "name": "stdout",
     "output_type": "stream",
     "text": [
      "barracks :  0  supply :  0\n",
      "marines :  0\n",
      "Episode :   86 | Cumulative Reward :   -1 | Epsilon : 0.849\n"
     ]
    },
    {
     "name": "stderr",
     "output_type": "stream",
     "text": [
      "I0924 02:47:14.183344 140688196453760 sc2_env.py:507] Starting episode 87: [terran, terran] on Simple64\n",
      "I0924 02:48:08.421528 140688196453760 sc2_env.py:725] Episode 87 finished after 9784 game steps. Outcome: [1], reward: [1], score: [4595]\n"
     ]
    },
    {
     "name": "stdout",
     "output_type": "stream",
     "text": [
      "barracks :  4  supply :  7\n",
      "marines :  42\n",
      "Episode :   87 | Cumulative Reward :    1 | Epsilon : 0.848\n"
     ]
    },
    {
     "name": "stderr",
     "output_type": "stream",
     "text": [
      "I0924 02:48:11.722691 140688196453760 sc2_env.py:507] Starting episode 88: [terran, terran] on Simple64\n",
      "I0924 02:49:43.596871 140688196453760 sc2_env.py:725] Episode 88 finished after 13848 game steps. Outcome: [-1], reward: [-1], score: [785]\n"
     ]
    },
    {
     "name": "stdout",
     "output_type": "stream",
     "text": [
      "barracks :  0  supply :  0\n",
      "marines :  0\n",
      "Episode :   88 | Cumulative Reward :   -1 | Epsilon : 0.848\n"
     ]
    },
    {
     "name": "stderr",
     "output_type": "stream",
     "text": [
      "I0924 02:49:46.922973 140688196453760 sc2_env.py:507] Starting episode 89: [terran, terran] on Simple64\n",
      "I0924 02:51:40.550343 140688196453760 sc2_env.py:725] Episode 89 finished after 16672 game steps. Outcome: [-1], reward: [-1], score: [220]\n"
     ]
    },
    {
     "name": "stdout",
     "output_type": "stream",
     "text": [
      "barracks :  0  supply :  0\n",
      "marines :  0\n",
      "Episode :   89 | Cumulative Reward :   -1 | Epsilon : 0.847\n"
     ]
    },
    {
     "name": "stderr",
     "output_type": "stream",
     "text": [
      "I0924 02:51:43.852622 140688196453760 sc2_env.py:507] Starting episode 90: [terran, terran] on Simple64\n",
      "I0924 02:52:25.644192 140688196453760 sc2_env.py:725] Episode 90 finished after 7976 game steps. Outcome: [1], reward: [1], score: [4150]\n"
     ]
    },
    {
     "name": "stdout",
     "output_type": "stream",
     "text": [
      "barracks :  4  supply :  7\n",
      "marines :  33\n",
      "Episode :   90 | Cumulative Reward :    1 | Epsilon : 0.847\n"
     ]
    },
    {
     "name": "stderr",
     "output_type": "stream",
     "text": [
      "I0924 02:52:28.914668 140688196453760 sc2_env.py:507] Starting episode 91: [terran, terran] on Simple64\n",
      "I0924 02:54:13.123290 140688196453760 sc2_env.py:725] Episode 91 finished after 15272 game steps. Outcome: [-1], reward: [-1], score: [465]\n"
     ]
    },
    {
     "name": "stdout",
     "output_type": "stream",
     "text": [
      "barracks :  0  supply :  0\n",
      "marines :  0\n",
      "Episode :   91 | Cumulative Reward :   -1 | Epsilon : 0.846\n"
     ]
    },
    {
     "name": "stderr",
     "output_type": "stream",
     "text": [
      "I0924 02:54:16.436139 140688196453760 sc2_env.py:507] Starting episode 92: [terran, terran] on Simple64\n",
      "I0924 02:58:21.172040 140688196453760 sc2_env.py:725] Episode 92 finished after 28800 game steps. Outcome: [0], reward: [0], score: [11310]\n"
     ]
    },
    {
     "name": "stdout",
     "output_type": "stream",
     "text": [
      "barracks :  6  supply :  21\n",
      "marines :  146\n",
      "Episode :   92 | Cumulative Reward :    0 | Epsilon : 0.845\n"
     ]
    },
    {
     "name": "stderr",
     "output_type": "stream",
     "text": [
      "I0924 02:58:24.507640 140688196453760 sc2_env.py:507] Starting episode 93: [terran, terran] on Simple64\n",
      "I0924 02:59:07.537445 140688196453760 sc2_env.py:725] Episode 93 finished after 8240 game steps. Outcome: [1], reward: [1], score: [3930]\n"
     ]
    },
    {
     "name": "stdout",
     "output_type": "stream",
     "text": [
      "barracks :  4  supply :  6\n",
      "marines :  29\n",
      "Episode :   93 | Cumulative Reward :    1 | Epsilon : 0.845\n"
     ]
    },
    {
     "name": "stderr",
     "output_type": "stream",
     "text": [
      "I0924 02:59:10.826925 140688196453760 sc2_env.py:507] Starting episode 94: [terran, terran] on Simple64\n",
      "I0924 03:00:05.637501 140688196453760 sc2_env.py:725] Episode 94 finished after 10120 game steps. Outcome: [1], reward: [1], score: [4640]\n"
     ]
    },
    {
     "name": "stdout",
     "output_type": "stream",
     "text": [
      "barracks :  4  supply :  8\n",
      "marines :  39\n",
      "Episode :   94 | Cumulative Reward :    1 | Epsilon : 0.844\n"
     ]
    },
    {
     "name": "stderr",
     "output_type": "stream",
     "text": [
      "I0924 03:00:08.946664 140688196453760 sc2_env.py:507] Starting episode 95: [terran, terran] on Simple64\n",
      "I0924 03:01:21.426710 140688196453760 sc2_env.py:725] Episode 95 finished after 11648 game steps. Outcome: [-1], reward: [-1], score: [95]\n"
     ]
    },
    {
     "name": "stdout",
     "output_type": "stream",
     "text": [
      "barracks :  0  supply :  0\n",
      "marines :  0\n",
      "Episode :   95 | Cumulative Reward :   -1 | Epsilon : 0.844\n"
     ]
    },
    {
     "name": "stderr",
     "output_type": "stream",
     "text": [
      "I0924 03:01:24.725493 140688196453760 sc2_env.py:507] Starting episode 96: [terran, terran] on Simple64\n",
      "I0924 03:02:34.700749 140688196453760 sc2_env.py:725] Episode 96 finished after 12184 game steps. Outcome: [1], reward: [1], score: [5170]\n"
     ]
    },
    {
     "name": "stdout",
     "output_type": "stream",
     "text": [
      "barracks :  7  supply :  8\n",
      "marines :  41\n",
      "Episode :   96 | Cumulative Reward :    1 | Epsilon : 0.843\n"
     ]
    },
    {
     "name": "stderr",
     "output_type": "stream",
     "text": [
      "I0924 03:02:38.030495 140688196453760 sc2_env.py:507] Starting episode 97: [terran, terran] on Simple64\n",
      "I0924 03:04:16.935108 140688196453760 sc2_env.py:725] Episode 97 finished after 14592 game steps. Outcome: [-1], reward: [-1], score: [795]\n"
     ]
    },
    {
     "name": "stdout",
     "output_type": "stream",
     "text": [
      "barracks :  0  supply :  0\n",
      "marines :  0\n",
      "Episode :   97 | Cumulative Reward :   -1 | Epsilon : 0.842\n"
     ]
    },
    {
     "name": "stderr",
     "output_type": "stream",
     "text": [
      "I0924 03:04:20.292958 140688196453760 sc2_env.py:507] Starting episode 98: [terran, terran] on Simple64\n",
      "I0924 03:06:05.397239 140688196453760 sc2_env.py:725] Episode 98 finished after 15040 game steps. Outcome: [-1], reward: [-1], score: [550]\n"
     ]
    },
    {
     "name": "stdout",
     "output_type": "stream",
     "text": [
      "barracks :  0  supply :  0\n",
      "marines :  0\n",
      "Episode :   98 | Cumulative Reward :   -1 | Epsilon : 0.842\n"
     ]
    },
    {
     "name": "stderr",
     "output_type": "stream",
     "text": [
      "I0924 03:06:08.699182 140688196453760 sc2_env.py:507] Starting episode 99: [terran, terran] on Simple64\n",
      "I0924 03:08:02.924302 140688196453760 sc2_env.py:725] Episode 99 finished after 15976 game steps. Outcome: [-1], reward: [-1], score: [810]\n"
     ]
    },
    {
     "name": "stdout",
     "output_type": "stream",
     "text": [
      "barracks :  0  supply :  0\n",
      "marines :  0\n",
      "Episode :   99 | Cumulative Reward :   -1 | Epsilon : 0.841\n"
     ]
    },
    {
     "name": "stderr",
     "output_type": "stream",
     "text": [
      "I0924 03:08:06.251214 140688196453760 sc2_env.py:507] Starting episode 100: [terran, terran] on Simple64\n",
      "I0924 03:09:03.206344 140688196453760 sc2_env.py:725] Episode 100 finished after 10304 game steps. Outcome: [1], reward: [1], score: [4220]\n"
     ]
    },
    {
     "name": "stdout",
     "output_type": "stream",
     "text": [
      "barracks :  5  supply :  6\n",
      "marines :  34\n",
      "Episode :  100 | Cumulative Reward :    1 | Epsilon : 0.841\n"
     ]
    },
    {
     "name": "stderr",
     "output_type": "stream",
     "text": [
      "I0924 03:09:06.583736 140688196453760 sc2_env.py:507] Starting episode 101: [terran, terran] on Simple64\n",
      "I0924 03:11:07.678082 140688196453760 sc2_env.py:725] Episode 101 finished after 17704 game steps. Outcome: [-1], reward: [-1], score: [350]\n"
     ]
    },
    {
     "name": "stdout",
     "output_type": "stream",
     "text": [
      "barracks :  0  supply :  0\n",
      "marines :  0\n",
      "Episode :  101 | Cumulative Reward :   -1 | Epsilon : 0.840\n"
     ]
    },
    {
     "name": "stderr",
     "output_type": "stream",
     "text": [
      "I0924 03:11:11.181165 140688196453760 sc2_env.py:507] Starting episode 102: [terran, terran] on Simple64\n",
      "I0924 03:12:40.767338 140688196453760 sc2_env.py:725] Episode 102 finished after 13720 game steps. Outcome: [-1], reward: [-1], score: [50]\n"
     ]
    },
    {
     "name": "stdout",
     "output_type": "stream",
     "text": [
      "barracks :  0  supply :  0\n",
      "marines :  0\n",
      "Episode :  102 | Cumulative Reward :   -1 | Epsilon : 0.839\n"
     ]
    },
    {
     "name": "stderr",
     "output_type": "stream",
     "text": [
      "I0924 03:12:44.124070 140688196453760 sc2_env.py:507] Starting episode 103: [terran, terran] on Simple64\n",
      "I0924 03:13:24.798406 140688196453760 sc2_env.py:725] Episode 103 finished after 7896 game steps. Outcome: [1], reward: [1], score: [3655]\n"
     ]
    },
    {
     "name": "stdout",
     "output_type": "stream",
     "text": [
      "barracks :  4  supply :  5\n",
      "marines :  27\n",
      "Episode :  103 | Cumulative Reward :    1 | Epsilon : 0.839\n"
     ]
    },
    {
     "name": "stderr",
     "output_type": "stream",
     "text": [
      "I0924 03:13:28.143296 140688196453760 sc2_env.py:507] Starting episode 104: [terran, terran] on Simple64\n",
      "I0924 03:14:15.742690 140688196453760 sc2_env.py:725] Episode 104 finished after 8848 game steps. Outcome: [1], reward: [1], score: [3985]\n"
     ]
    },
    {
     "name": "stdout",
     "output_type": "stream",
     "text": [
      "barracks :  5  supply :  6\n",
      "marines :  29\n",
      "Episode :  104 | Cumulative Reward :    1 | Epsilon : 0.838\n"
     ]
    },
    {
     "name": "stderr",
     "output_type": "stream",
     "text": [
      "I0924 03:14:19.092960 140688196453760 sc2_env.py:507] Starting episode 105: [terran, terran] on Simple64\n",
      "I0924 03:18:11.003206 140688196453760 sc2_env.py:725] Episode 105 finished after 28800 game steps. Outcome: [0], reward: [0], score: [10570]\n"
     ]
    },
    {
     "name": "stdout",
     "output_type": "stream",
     "text": [
      "barracks :  6  supply :  19\n",
      "marines :  134\n",
      "Episode :  105 | Cumulative Reward :    0 | Epsilon : 0.838\n"
     ]
    },
    {
     "name": "stderr",
     "output_type": "stream",
     "text": [
      "I0924 03:18:14.345532 140688196453760 sc2_env.py:507] Starting episode 106: [terran, terran] on Simple64\n",
      "I0924 03:18:57.509944 140688196453760 sc2_env.py:725] Episode 106 finished after 8112 game steps. Outcome: [1], reward: [1], score: [3700]\n"
     ]
    },
    {
     "name": "stdout",
     "output_type": "stream",
     "text": [
      "barracks :  4  supply :  6\n",
      "marines :  26\n",
      "Episode :  106 | Cumulative Reward :    1 | Epsilon : 0.837\n"
     ]
    },
    {
     "name": "stderr",
     "output_type": "stream",
     "text": [
      "I0924 03:19:00.800414 140688196453760 sc2_env.py:507] Starting episode 107: [terran, terran] on Simple64\n",
      "I0924 03:20:45.649810 140688196453760 sc2_env.py:725] Episode 107 finished after 15176 game steps. Outcome: [-1], reward: [-1], score: [675]\n"
     ]
    },
    {
     "name": "stdout",
     "output_type": "stream",
     "text": [
      "barracks :  0  supply :  0\n",
      "marines :  0\n",
      "Episode :  107 | Cumulative Reward :   -1 | Epsilon : 0.836\n"
     ]
    },
    {
     "name": "stderr",
     "output_type": "stream",
     "text": [
      "I0924 03:20:49.015803 140688196453760 sc2_env.py:507] Starting episode 108: [terran, terran] on Simple64\n",
      "I0924 03:21:48.877261 140688196453760 sc2_env.py:725] Episode 108 finished after 10440 game steps. Outcome: [1], reward: [1], score: [4490]\n"
     ]
    },
    {
     "name": "stdout",
     "output_type": "stream",
     "text": [
      "barracks :  7  supply :  6\n",
      "marines :  35\n",
      "Episode :  108 | Cumulative Reward :    1 | Epsilon : 0.836\n"
     ]
    },
    {
     "name": "stderr",
     "output_type": "stream",
     "text": [
      "I0924 03:21:52.235280 140688196453760 sc2_env.py:507] Starting episode 109: [terran, terran] on Simple64\n",
      "I0924 03:23:28.182198 140688196453760 sc2_env.py:725] Episode 109 finished after 14488 game steps. Outcome: [-1], reward: [-1], score: [380]\n"
     ]
    },
    {
     "name": "stdout",
     "output_type": "stream",
     "text": [
      "barracks :  0  supply :  0\n",
      "marines :  0\n",
      "Episode :  109 | Cumulative Reward :   -1 | Epsilon : 0.835\n"
     ]
    },
    {
     "name": "stderr",
     "output_type": "stream",
     "text": [
      "I0924 03:23:31.557979 140688196453760 sc2_env.py:507] Starting episode 110: [terran, terran] on Simple64\n",
      "I0924 03:24:58.542155 140688196453760 sc2_env.py:725] Episode 110 finished after 13624 game steps. Outcome: [-1], reward: [-1], score: [85]\n"
     ]
    },
    {
     "name": "stdout",
     "output_type": "stream",
     "text": [
      "barracks :  0  supply :  0\n",
      "marines :  0\n",
      "Episode :  110 | Cumulative Reward :   -1 | Epsilon : 0.835\n"
     ]
    },
    {
     "name": "stderr",
     "output_type": "stream",
     "text": [
      "I0924 03:25:01.885009 140688196453760 sc2_env.py:507] Starting episode 111: [terran, terran] on Simple64\n",
      "I0924 03:26:41.327616 140688196453760 sc2_env.py:725] Episode 111 finished after 14560 game steps. Outcome: [-1], reward: [-1], score: [875]\n"
     ]
    },
    {
     "name": "stdout",
     "output_type": "stream",
     "text": [
      "barracks :  0  supply :  0\n",
      "marines :  0\n",
      "Episode :  111 | Cumulative Reward :   -1 | Epsilon : 0.834\n"
     ]
    },
    {
     "name": "stderr",
     "output_type": "stream",
     "text": [
      "I0924 03:26:44.742012 140688196453760 sc2_env.py:507] Starting episode 112: [terran, terran] on Simple64\n",
      "I0924 03:27:28.425541 140688196453760 sc2_env.py:725] Episode 112 finished after 8120 game steps. Outcome: [1], reward: [1], score: [4020]\n"
     ]
    },
    {
     "name": "stdout",
     "output_type": "stream",
     "text": [
      "barracks :  4  supply :  6\n",
      "marines :  32\n",
      "Episode :  112 | Cumulative Reward :    1 | Epsilon : 0.833\n"
     ]
    },
    {
     "name": "stderr",
     "output_type": "stream",
     "text": [
      "I0924 03:27:31.777240 140688196453760 sc2_env.py:507] Starting episode 113: [terran, terran] on Simple64\n",
      "I0924 03:29:27.087865 140688196453760 sc2_env.py:725] Episode 113 finished after 16384 game steps. Outcome: [-1], reward: [-1], score: [140]\n"
     ]
    },
    {
     "name": "stdout",
     "output_type": "stream",
     "text": [
      "barracks :  0  supply :  0\n",
      "marines :  0\n",
      "Episode :  113 | Cumulative Reward :   -1 | Epsilon : 0.833\n"
     ]
    },
    {
     "name": "stderr",
     "output_type": "stream",
     "text": [
      "I0924 03:29:30.414478 140688196453760 sc2_env.py:507] Starting episode 114: [terran, terran] on Simple64\n",
      "I0924 03:31:17.375992 140688196453760 sc2_env.py:725] Episode 114 finished after 15408 game steps. Outcome: [-1], reward: [-1], score: [285]\n"
     ]
    },
    {
     "name": "stdout",
     "output_type": "stream",
     "text": [
      "barracks :  0  supply :  0\n",
      "marines :  0\n",
      "Episode :  114 | Cumulative Reward :   -1 | Epsilon : 0.832\n"
     ]
    },
    {
     "name": "stderr",
     "output_type": "stream",
     "text": [
      "I0924 03:31:20.710361 140688196453760 sc2_env.py:507] Starting episode 115: [terran, terran] on Simple64\n",
      "I0924 03:33:02.723966 140688196453760 sc2_env.py:725] Episode 115 finished after 15216 game steps. Outcome: [-1], reward: [-1], score: [205]\n"
     ]
    },
    {
     "name": "stdout",
     "output_type": "stream",
     "text": [
      "barracks :  0  supply :  0\n",
      "marines :  0\n",
      "Episode :  115 | Cumulative Reward :   -1 | Epsilon : 0.832\n"
     ]
    },
    {
     "name": "stderr",
     "output_type": "stream",
     "text": [
      "I0924 03:33:06.064846 140688196453760 sc2_env.py:507] Starting episode 116: [terran, terran] on Simple64\n",
      "I0924 03:34:12.537184 140688196453760 sc2_env.py:725] Episode 116 finished after 11664 game steps. Outcome: [1], reward: [1], score: [4495]\n"
     ]
    },
    {
     "name": "stdout",
     "output_type": "stream",
     "text": [
      "barracks :  6  supply :  7\n",
      "marines :  33\n",
      "Episode :  116 | Cumulative Reward :    1 | Epsilon : 0.831\n"
     ]
    },
    {
     "name": "stderr",
     "output_type": "stream",
     "text": [
      "I0924 03:34:15.852596 140688196453760 sc2_env.py:507] Starting episode 117: [terran, terran] on Simple64\n",
      "I0924 03:35:01.412628 140688196453760 sc2_env.py:725] Episode 117 finished after 8288 game steps. Outcome: [1], reward: [1], score: [3635]\n"
     ]
    },
    {
     "name": "stdout",
     "output_type": "stream",
     "text": [
      "barracks :  6  supply :  5\n",
      "marines :  21\n",
      "Episode :  117 | Cumulative Reward :    1 | Epsilon : 0.830\n"
     ]
    },
    {
     "name": "stderr",
     "output_type": "stream",
     "text": [
      "I0924 03:35:04.742276 140688196453760 sc2_env.py:507] Starting episode 118: [terran, terran] on Simple64\n",
      "I0924 03:36:47.804324 140688196453760 sc2_env.py:725] Episode 118 finished after 15136 game steps. Outcome: [-1], reward: [-1], score: [410]\n"
     ]
    },
    {
     "name": "stdout",
     "output_type": "stream",
     "text": [
      "barracks :  0  supply :  0\n",
      "marines :  0\n",
      "Episode :  118 | Cumulative Reward :   -1 | Epsilon : 0.830\n"
     ]
    },
    {
     "name": "stderr",
     "output_type": "stream",
     "text": [
      "I0924 03:36:51.142196 140688196453760 sc2_env.py:507] Starting episode 119: [terran, terran] on Simple64\n",
      "I0924 03:38:34.524229 140688196453760 sc2_env.py:725] Episode 119 finished after 15040 game steps. Outcome: [-1], reward: [-1], score: [1045]\n"
     ]
    },
    {
     "name": "stdout",
     "output_type": "stream",
     "text": [
      "barracks :  0  supply :  0\n",
      "marines :  0\n",
      "Episode :  119 | Cumulative Reward :   -1 | Epsilon : 0.829\n"
     ]
    },
    {
     "name": "stderr",
     "output_type": "stream",
     "text": [
      "I0924 03:38:37.867689 140688196453760 sc2_env.py:507] Starting episode 120: [terran, terran] on Simple64\n",
      "I0924 03:40:26.448931 140688196453760 sc2_env.py:725] Episode 120 finished after 15608 game steps. Outcome: [-1], reward: [-1], score: [280]\n"
     ]
    },
    {
     "name": "stdout",
     "output_type": "stream",
     "text": [
      "barracks :  0  supply :  0\n",
      "marines :  0\n",
      "Episode :  120 | Cumulative Reward :   -1 | Epsilon : 0.829\n"
     ]
    },
    {
     "name": "stderr",
     "output_type": "stream",
     "text": [
      "I0924 03:40:29.805027 140688196453760 sc2_env.py:507] Starting episode 121: [terran, terran] on Simple64\n",
      "I0924 03:41:12.919721 140688196453760 sc2_env.py:725] Episode 121 finished after 7912 game steps. Outcome: [1], reward: [1], score: [4065]\n"
     ]
    },
    {
     "name": "stdout",
     "output_type": "stream",
     "text": [
      "barracks :  5  supply :  6\n",
      "marines :  28\n",
      "Episode :  121 | Cumulative Reward :    1 | Epsilon : 0.828\n"
     ]
    },
    {
     "name": "stderr",
     "output_type": "stream",
     "text": [
      "I0924 03:41:16.270238 140688196453760 sc2_env.py:507] Starting episode 122: [terran, terran] on Simple64\n",
      "I0924 03:43:14.281277 140688196453760 sc2_env.py:725] Episode 122 finished after 16224 game steps. Outcome: [-1], reward: [-1], score: [475]\n"
     ]
    },
    {
     "name": "stdout",
     "output_type": "stream",
     "text": [
      "barracks :  0  supply :  0\n",
      "marines :  0\n",
      "Episode :  122 | Cumulative Reward :   -1 | Epsilon : 0.827\n"
     ]
    },
    {
     "name": "stderr",
     "output_type": "stream",
     "text": [
      "I0924 03:43:17.651392 140688196453760 sc2_env.py:507] Starting episode 123: [terran, terran] on Simple64\n",
      "I0924 03:47:08.733099 140688196453760 sc2_env.py:725] Episode 123 finished after 28800 game steps. Outcome: [0], reward: [0], score: [10985]\n"
     ]
    },
    {
     "name": "stdout",
     "output_type": "stream",
     "text": [
      "barracks :  6  supply :  20\n",
      "marines :  140\n",
      "Episode :  123 | Cumulative Reward :    0 | Epsilon : 0.827\n"
     ]
    },
    {
     "name": "stderr",
     "output_type": "stream",
     "text": [
      "I0924 03:47:12.126469 140688196453760 sc2_env.py:507] Starting episode 124: [terran, terran] on Simple64\n",
      "I0924 03:51:08.672590 140688196453760 sc2_env.py:725] Episode 124 finished after 28800 game steps. Outcome: [0], reward: [0], score: [10625]\n"
     ]
    },
    {
     "name": "stdout",
     "output_type": "stream",
     "text": [
      "barracks :  5  supply :  20\n",
      "marines :  135\n",
      "Episode :  124 | Cumulative Reward :    0 | Epsilon : 0.826\n"
     ]
    },
    {
     "name": "stderr",
     "output_type": "stream",
     "text": [
      "I0924 03:51:12.041347 140688196453760 sc2_env.py:507] Starting episode 125: [terran, terran] on Simple64\n",
      "I0924 03:52:51.390224 140688196453760 sc2_env.py:725] Episode 125 finished after 14696 game steps. Outcome: [-1], reward: [-1], score: [470]\n"
     ]
    },
    {
     "name": "stdout",
     "output_type": "stream",
     "text": [
      "barracks :  0  supply :  0\n",
      "marines :  0\n",
      "Episode :  125 | Cumulative Reward :   -1 | Epsilon : 0.826\n"
     ]
    },
    {
     "name": "stderr",
     "output_type": "stream",
     "text": [
      "I0924 03:52:54.703331 140688196453760 sc2_env.py:507] Starting episode 126: [terran, terran] on Simple64\n",
      "I0924 03:53:37.792730 140688196453760 sc2_env.py:725] Episode 126 finished after 8248 game steps. Outcome: [1], reward: [1], score: [3870]\n"
     ]
    },
    {
     "name": "stdout",
     "output_type": "stream",
     "text": [
      "barracks :  4  supply :  5\n",
      "marines :  29\n",
      "Episode :  126 | Cumulative Reward :    1 | Epsilon : 0.825\n"
     ]
    },
    {
     "name": "stderr",
     "output_type": "stream",
     "text": [
      "I0924 03:53:41.086209 140688196453760 sc2_env.py:507] Starting episode 127: [terran, terran] on Simple64\n",
      "I0924 03:55:05.735818 140688196453760 sc2_env.py:725] Episode 127 finished after 13408 game steps. Outcome: [-1], reward: [-1], score: [475]\n"
     ]
    },
    {
     "name": "stdout",
     "output_type": "stream",
     "text": [
      "barracks :  0  supply :  0\n",
      "marines :  0\n",
      "Episode :  127 | Cumulative Reward :   -1 | Epsilon : 0.824\n"
     ]
    },
    {
     "name": "stderr",
     "output_type": "stream",
     "text": [
      "I0924 03:55:09.088200 140688196453760 sc2_env.py:507] Starting episode 128: [terran, terran] on Simple64\n",
      "I0924 03:57:00.879825 140688196453760 sc2_env.py:725] Episode 128 finished after 16872 game steps. Outcome: [-1], reward: [-1], score: [425]\n"
     ]
    },
    {
     "name": "stdout",
     "output_type": "stream",
     "text": [
      "barracks :  0  supply :  0\n",
      "marines :  0\n",
      "Episode :  128 | Cumulative Reward :   -1 | Epsilon : 0.824\n"
     ]
    },
    {
     "name": "stderr",
     "output_type": "stream",
     "text": [
      "I0924 03:57:04.225602 140688196453760 sc2_env.py:507] Starting episode 129: [terran, terran] on Simple64\n",
      "I0924 03:58:24.612501 140688196453760 sc2_env.py:725] Episode 129 finished after 12720 game steps. Outcome: [-1], reward: [-1], score: [80]\n"
     ]
    },
    {
     "name": "stdout",
     "output_type": "stream",
     "text": [
      "barracks :  0  supply :  0\n",
      "marines :  0\n",
      "Episode :  129 | Cumulative Reward :   -1 | Epsilon : 0.823\n"
     ]
    },
    {
     "name": "stderr",
     "output_type": "stream",
     "text": [
      "I0924 03:58:27.963028 140688196453760 sc2_env.py:507] Starting episode 130: [terran, terran] on Simple64\n",
      "I0924 04:00:12.979879 140688196453760 sc2_env.py:725] Episode 130 finished after 15240 game steps. Outcome: [-1], reward: [-1], score: [710]\n"
     ]
    },
    {
     "name": "stdout",
     "output_type": "stream",
     "text": [
      "barracks :  0  supply :  0\n",
      "marines :  0\n",
      "Episode :  130 | Cumulative Reward :   -1 | Epsilon : 0.823\n"
     ]
    },
    {
     "name": "stderr",
     "output_type": "stream",
     "text": [
      "I0924 04:00:16.336466 140688196453760 sc2_env.py:507] Starting episode 131: [terran, terran] on Simple64\n",
      "I0924 04:01:50.657391 140688196453760 sc2_env.py:725] Episode 131 finished after 14448 game steps. Outcome: [-1], reward: [-1], score: [70]\n"
     ]
    },
    {
     "name": "stdout",
     "output_type": "stream",
     "text": [
      "barracks :  0  supply :  0\n",
      "marines :  0\n",
      "Episode :  131 | Cumulative Reward :   -1 | Epsilon : 0.822\n"
     ]
    },
    {
     "name": "stderr",
     "output_type": "stream",
     "text": [
      "I0924 04:01:53.992568 140688196453760 sc2_env.py:507] Starting episode 132: [terran, terran] on Simple64\n",
      "I0924 04:02:40.547684 140688196453760 sc2_env.py:725] Episode 132 finished after 8504 game steps. Outcome: [1], reward: [1], score: [3945]\n"
     ]
    },
    {
     "name": "stdout",
     "output_type": "stream",
     "text": [
      "barracks :  5  supply :  6\n",
      "marines :  27\n",
      "Episode :  132 | Cumulative Reward :    1 | Epsilon : 0.821\n"
     ]
    },
    {
     "name": "stderr",
     "output_type": "stream",
     "text": [
      "I0924 04:02:43.883727 140688196453760 sc2_env.py:507] Starting episode 133: [terran, terran] on Simple64\n",
      "I0924 04:06:10.337698 140688196453760 sc2_env.py:725] Episode 133 finished after 28800 game steps. Outcome: [0], reward: [0], score: [8930]\n"
     ]
    },
    {
     "name": "stdout",
     "output_type": "stream",
     "text": [
      "barracks :  6  supply :  16\n",
      "marines :  105\n",
      "Episode :  133 | Cumulative Reward :    0 | Epsilon : 0.821\n"
     ]
    },
    {
     "name": "stderr",
     "output_type": "stream",
     "text": [
      "I0924 04:06:13.702378 140688196453760 sc2_env.py:507] Starting episode 134: [terran, terran] on Simple64\n",
      "I0924 04:08:13.997447 140688196453760 sc2_env.py:725] Episode 134 finished after 16896 game steps. Outcome: [-1], reward: [-1], score: [60]\n"
     ]
    },
    {
     "name": "stdout",
     "output_type": "stream",
     "text": [
      "barracks :  0  supply :  0\n",
      "marines :  0\n",
      "Episode :  134 | Cumulative Reward :   -1 | Epsilon : 0.820\n"
     ]
    },
    {
     "name": "stderr",
     "output_type": "stream",
     "text": [
      "I0924 04:08:17.369215 140688196453760 sc2_env.py:507] Starting episode 135: [terran, terran] on Simple64\n",
      "I0924 04:09:50.248527 140688196453760 sc2_env.py:725] Episode 135 finished after 14792 game steps. Outcome: [-1], reward: [-1], score: [55]\n"
     ]
    },
    {
     "name": "stdout",
     "output_type": "stream",
     "text": [
      "barracks :  0  supply :  0\n",
      "marines :  0\n",
      "Episode :  135 | Cumulative Reward :   -1 | Epsilon : 0.820\n"
     ]
    },
    {
     "name": "stderr",
     "output_type": "stream",
     "text": [
      "I0924 04:09:53.583384 140688196453760 sc2_env.py:507] Starting episode 136: [terran, terran] on Simple64\n",
      "I0924 04:11:44.387510 140688196453760 sc2_env.py:725] Episode 136 finished after 16416 game steps. Outcome: [-1], reward: [-1], score: [560]\n"
     ]
    },
    {
     "name": "stdout",
     "output_type": "stream",
     "text": [
      "barracks :  0  supply :  0\n",
      "marines :  0\n",
      "Episode :  136 | Cumulative Reward :   -1 | Epsilon : 0.819\n"
     ]
    },
    {
     "name": "stderr",
     "output_type": "stream",
     "text": [
      "I0924 04:11:47.733623 140688196453760 sc2_env.py:507] Starting episode 137: [terran, terran] on Simple64\n",
      "I0924 04:13:33.762863 140688196453760 sc2_env.py:725] Episode 137 finished after 15816 game steps. Outcome: [-1], reward: [-1], score: [165]\n"
     ]
    },
    {
     "name": "stdout",
     "output_type": "stream",
     "text": [
      "barracks :  0  supply :  0\n",
      "marines :  0\n",
      "Episode :  137 | Cumulative Reward :   -1 | Epsilon : 0.818\n"
     ]
    },
    {
     "name": "stderr",
     "output_type": "stream",
     "text": [
      "I0924 04:13:37.112507 140688196453760 sc2_env.py:507] Starting episode 138: [terran, terran] on Simple64\n",
      "I0924 04:14:26.419910 140688196453760 sc2_env.py:725] Episode 138 finished after 8912 game steps. Outcome: [1], reward: [1], score: [4150]\n"
     ]
    },
    {
     "name": "stdout",
     "output_type": "stream",
     "text": [
      "barracks :  6  supply :  6\n",
      "marines :  29\n",
      "Episode :  138 | Cumulative Reward :    1 | Epsilon : 0.818\n"
     ]
    },
    {
     "name": "stderr",
     "output_type": "stream",
     "text": [
      "I0924 04:14:29.761777 140688196453760 sc2_env.py:507] Starting episode 139: [terran, terran] on Simple64\n",
      "I0924 04:16:11.931142 140688196453760 sc2_env.py:725] Episode 139 finished after 14800 game steps. Outcome: [-1], reward: [-1], score: [425]\n"
     ]
    },
    {
     "name": "stdout",
     "output_type": "stream",
     "text": [
      "barracks :  0  supply :  0\n",
      "marines :  0\n",
      "Episode :  139 | Cumulative Reward :   -1 | Epsilon : 0.817\n"
     ]
    },
    {
     "name": "stderr",
     "output_type": "stream",
     "text": [
      "I0924 04:16:15.274732 140688196453760 sc2_env.py:507] Starting episode 140: [terran, terran] on Simple64\n",
      "I0924 04:18:48.978054 140688196453760 sc2_env.py:725] Episode 140 finished after 21152 game steps. Outcome: [-1], reward: [-1], score: [85]\n"
     ]
    },
    {
     "name": "stdout",
     "output_type": "stream",
     "text": [
      "barracks :  0  supply :  0\n",
      "marines :  0\n",
      "Episode :  140 | Cumulative Reward :   -1 | Epsilon : 0.817\n"
     ]
    },
    {
     "name": "stderr",
     "output_type": "stream",
     "text": [
      "I0924 04:18:52.299330 140688196453760 sc2_env.py:507] Starting episode 141: [terran, terran] on Simple64\n",
      "I0924 04:20:34.440270 140688196453760 sc2_env.py:725] Episode 141 finished after 15216 game steps. Outcome: [-1], reward: [-1], score: [300]\n"
     ]
    },
    {
     "name": "stdout",
     "output_type": "stream",
     "text": [
      "barracks :  0  supply :  0\n",
      "marines :  0\n",
      "Episode :  141 | Cumulative Reward :   -1 | Epsilon : 0.816\n"
     ]
    },
    {
     "name": "stderr",
     "output_type": "stream",
     "text": [
      "I0924 04:20:37.772223 140688196453760 sc2_env.py:507] Starting episode 142: [terran, terran] on Simple64\n",
      "I0924 04:21:21.595354 140688196453760 sc2_env.py:725] Episode 142 finished after 8160 game steps. Outcome: [1], reward: [1], score: [4195]\n"
     ]
    },
    {
     "name": "stdout",
     "output_type": "stream",
     "text": [
      "barracks :  5  supply :  7\n",
      "marines :  30\n",
      "Episode :  142 | Cumulative Reward :    1 | Epsilon : 0.815\n"
     ]
    },
    {
     "name": "stderr",
     "output_type": "stream",
     "text": [
      "I0924 04:21:24.907436 140688196453760 sc2_env.py:507] Starting episode 143: [terran, terran] on Simple64\n",
      "I0924 04:22:05.906261 140688196453760 sc2_env.py:725] Episode 143 finished after 7984 game steps. Outcome: [1], reward: [1], score: [3670]\n"
     ]
    },
    {
     "name": "stdout",
     "output_type": "stream",
     "text": [
      "barracks :  5  supply :  6\n",
      "marines :  24\n",
      "Episode :  143 | Cumulative Reward :    1 | Epsilon : 0.815\n"
     ]
    },
    {
     "name": "stderr",
     "output_type": "stream",
     "text": [
      "I0924 04:22:09.211409 140688196453760 sc2_env.py:507] Starting episode 144: [terran, terran] on Simple64\n",
      "I0924 04:23:56.897464 140688196453760 sc2_env.py:725] Episode 144 finished after 15552 game steps. Outcome: [-1], reward: [-1], score: [255]\n"
     ]
    },
    {
     "name": "stdout",
     "output_type": "stream",
     "text": [
      "barracks :  0  supply :  0\n",
      "marines :  0\n",
      "Episode :  144 | Cumulative Reward :   -1 | Epsilon : 0.814\n"
     ]
    },
    {
     "name": "stderr",
     "output_type": "stream",
     "text": [
      "I0924 04:24:00.240330 140688196453760 sc2_env.py:507] Starting episode 145: [terran, terran] on Simple64\n",
      "I0924 04:26:10.293883 140688196453760 sc2_env.py:725] Episode 145 finished after 18360 game steps. Outcome: [-1], reward: [-1], score: [200]\n"
     ]
    },
    {
     "name": "stdout",
     "output_type": "stream",
     "text": [
      "barracks :  0  supply :  0\n",
      "marines :  0\n",
      "Episode :  145 | Cumulative Reward :   -1 | Epsilon : 0.814\n"
     ]
    },
    {
     "name": "stderr",
     "output_type": "stream",
     "text": [
      "I0924 04:26:13.622821 140688196453760 sc2_env.py:507] Starting episode 146: [terran, terran] on Simple64\n",
      "I0924 04:27:54.395874 140688196453760 sc2_env.py:725] Episode 146 finished after 14912 game steps. Outcome: [-1], reward: [-1], score: [435]\n"
     ]
    },
    {
     "name": "stdout",
     "output_type": "stream",
     "text": [
      "barracks :  0  supply :  0\n",
      "marines :  0\n",
      "Episode :  146 | Cumulative Reward :   -1 | Epsilon : 0.813\n"
     ]
    },
    {
     "name": "stderr",
     "output_type": "stream",
     "text": [
      "I0924 04:27:57.738999 140688196453760 sc2_env.py:507] Starting episode 147: [terran, terran] on Simple64\n",
      "I0924 04:29:43.525758 140688196453760 sc2_env.py:725] Episode 147 finished after 15304 game steps. Outcome: [-1], reward: [-1], score: [540]\n"
     ]
    },
    {
     "name": "stdout",
     "output_type": "stream",
     "text": [
      "barracks :  0  supply :  0\n",
      "marines :  0\n",
      "Episode :  147 | Cumulative Reward :   -1 | Epsilon : 0.812\n"
     ]
    },
    {
     "name": "stderr",
     "output_type": "stream",
     "text": [
      "I0924 04:29:46.869612 140688196453760 sc2_env.py:507] Starting episode 148: [terran, terran] on Simple64\n",
      "I0924 04:31:27.312863 140688196453760 sc2_env.py:725] Episode 148 finished after 14888 game steps. Outcome: [-1], reward: [-1], score: [410]\n"
     ]
    },
    {
     "name": "stdout",
     "output_type": "stream",
     "text": [
      "barracks :  0  supply :  0\n",
      "marines :  0\n",
      "Episode :  148 | Cumulative Reward :   -1 | Epsilon : 0.812\n"
     ]
    },
    {
     "name": "stderr",
     "output_type": "stream",
     "text": [
      "I0924 04:31:30.680106 140688196453760 sc2_env.py:507] Starting episode 149: [terran, terran] on Simple64\n",
      "I0924 04:32:12.725861 140688196453760 sc2_env.py:725] Episode 149 finished after 7936 game steps. Outcome: [1], reward: [1], score: [3835]\n"
     ]
    },
    {
     "name": "stdout",
     "output_type": "stream",
     "text": [
      "barracks :  4  supply :  6\n",
      "marines :  28\n",
      "Episode :  149 | Cumulative Reward :    1 | Epsilon : 0.811\n"
     ]
    },
    {
     "name": "stderr",
     "output_type": "stream",
     "text": [
      "I0924 04:32:16.059784 140688196453760 sc2_env.py:507] Starting episode 150: [terran, terran] on Simple64\n",
      "I0924 04:34:06.468902 140688196453760 sc2_env.py:725] Episode 150 finished after 15848 game steps. Outcome: [-1], reward: [-1], score: [250]\n"
     ]
    },
    {
     "name": "stdout",
     "output_type": "stream",
     "text": [
      "barracks :  0  supply :  0\n",
      "marines :  0\n",
      "Episode :  150 | Cumulative Reward :   -1 | Epsilon : 0.811\n"
     ]
    },
    {
     "name": "stderr",
     "output_type": "stream",
     "text": [
      "I0924 04:34:09.836013 140688196453760 sc2_env.py:507] Starting episode 151: [terran, terran] on Simple64\n",
      "I0924 04:36:06.048065 140688196453760 sc2_env.py:725] Episode 151 finished after 17056 game steps. Outcome: [-1], reward: [-1], score: [190]\n"
     ]
    },
    {
     "name": "stdout",
     "output_type": "stream",
     "text": [
      "barracks :  0  supply :  0\n",
      "marines :  0\n",
      "Episode :  151 | Cumulative Reward :   -1 | Epsilon : 0.810\n"
     ]
    },
    {
     "name": "stderr",
     "output_type": "stream",
     "text": [
      "I0924 04:36:09.378244 140688196453760 sc2_env.py:507] Starting episode 152: [terran, terran] on Simple64\n",
      "I0924 04:37:51.603571 140688196453760 sc2_env.py:725] Episode 152 finished after 15128 game steps. Outcome: [-1], reward: [-1], score: [390]\n"
     ]
    },
    {
     "name": "stdout",
     "output_type": "stream",
     "text": [
      "barracks :  0  supply :  0\n",
      "marines :  0\n",
      "Episode :  152 | Cumulative Reward :   -1 | Epsilon : 0.809\n"
     ]
    },
    {
     "name": "stderr",
     "output_type": "stream",
     "text": [
      "I0924 04:37:54.968282 140688196453760 sc2_env.py:507] Starting episode 153: [terran, terran] on Simple64\n",
      "I0924 04:39:37.165592 140688196453760 sc2_env.py:725] Episode 153 finished after 16464 game steps. Outcome: [-1], reward: [-1], score: [650]\n"
     ]
    },
    {
     "name": "stdout",
     "output_type": "stream",
     "text": [
      "barracks :  0  supply :  0\n",
      "marines :  0\n",
      "Episode :  153 | Cumulative Reward :   -1 | Epsilon : 0.809\n"
     ]
    },
    {
     "name": "stderr",
     "output_type": "stream",
     "text": [
      "I0924 04:39:40.520416 140688196453760 sc2_env.py:507] Starting episode 154: [terran, terran] on Simple64\n",
      "I0924 04:41:28.926231 140688196453760 sc2_env.py:725] Episode 154 finished after 15528 game steps. Outcome: [-1], reward: [-1], score: [700]\n"
     ]
    },
    {
     "name": "stdout",
     "output_type": "stream",
     "text": [
      "barracks :  0  supply :  0\n",
      "marines :  0\n",
      "Episode :  154 | Cumulative Reward :   -1 | Epsilon : 0.808\n"
     ]
    },
    {
     "name": "stderr",
     "output_type": "stream",
     "text": [
      "I0924 04:41:32.247420 140688196453760 sc2_env.py:507] Starting episode 155: [terran, terran] on Simple64\n",
      "I0924 04:42:37.284969 140688196453760 sc2_env.py:725] Episode 155 finished after 11488 game steps. Outcome: [1], reward: [1], score: [4595]\n"
     ]
    },
    {
     "name": "stdout",
     "output_type": "stream",
     "text": [
      "barracks :  4  supply :  7\n",
      "marines :  40\n",
      "Episode :  155 | Cumulative Reward :    1 | Epsilon : 0.808\n"
     ]
    },
    {
     "name": "stderr",
     "output_type": "stream",
     "text": [
      "I0924 04:42:40.616104 140688196453760 sc2_env.py:507] Starting episode 156: [terran, terran] on Simple64\n",
      "I0924 04:44:31.174249 140688196453760 sc2_env.py:725] Episode 156 finished after 15976 game steps. Outcome: [-1], reward: [-1], score: [1015]\n"
     ]
    },
    {
     "name": "stdout",
     "output_type": "stream",
     "text": [
      "barracks :  0  supply :  0\n",
      "marines :  0\n",
      "Episode :  156 | Cumulative Reward :   -1 | Epsilon : 0.807\n"
     ]
    },
    {
     "name": "stderr",
     "output_type": "stream",
     "text": [
      "I0924 04:44:34.533772 140688196453760 sc2_env.py:507] Starting episode 157: [terran, terran] on Simple64\n",
      "I0924 04:46:18.432197 140688196453760 sc2_env.py:725] Episode 157 finished after 15064 game steps. Outcome: [-1], reward: [-1], score: [270]\n"
     ]
    },
    {
     "name": "stdout",
     "output_type": "stream",
     "text": [
      "barracks :  0  supply :  0\n",
      "marines :  0\n",
      "Episode :  157 | Cumulative Reward :   -1 | Epsilon : 0.806\n"
     ]
    },
    {
     "name": "stderr",
     "output_type": "stream",
     "text": [
      "I0924 04:46:21.789010 140688196453760 sc2_env.py:507] Starting episode 158: [terran, terran] on Simple64\n",
      "I0924 04:50:36.082527 140688196453760 sc2_env.py:725] Episode 158 finished after 28800 game steps. Outcome: [0], reward: [0], score: [11660]\n"
     ]
    },
    {
     "name": "stdout",
     "output_type": "stream",
     "text": [
      "barracks :  6  supply :  21\n",
      "marines :  149\n",
      "Episode :  158 | Cumulative Reward :    0 | Epsilon : 0.806\n"
     ]
    },
    {
     "name": "stderr",
     "output_type": "stream",
     "text": [
      "I0924 04:50:39.463011 140688196453760 sc2_env.py:507] Starting episode 159: [terran, terran] on Simple64\n",
      "I0924 04:52:21.218118 140688196453760 sc2_env.py:725] Episode 159 finished after 14832 game steps. Outcome: [-1], reward: [-1], score: [155]\n"
     ]
    },
    {
     "name": "stdout",
     "output_type": "stream",
     "text": [
      "barracks :  0  supply :  0\n",
      "marines :  0\n",
      "Episode :  159 | Cumulative Reward :   -1 | Epsilon : 0.805\n"
     ]
    },
    {
     "name": "stderr",
     "output_type": "stream",
     "text": [
      "I0924 04:52:24.514138 140688196453760 sc2_env.py:507] Starting episode 160: [terran, terran] on Simple64\n",
      "I0924 04:54:44.548166 140688196453760 sc2_env.py:725] Episode 160 finished after 18712 game steps. Outcome: [-1], reward: [-1], score: [555]\n"
     ]
    },
    {
     "name": "stdout",
     "output_type": "stream",
     "text": [
      "barracks :  0  supply :  0\n",
      "marines :  0\n",
      "Episode :  160 | Cumulative Reward :   -1 | Epsilon : 0.805\n"
     ]
    },
    {
     "name": "stderr",
     "output_type": "stream",
     "text": [
      "I0924 04:54:47.900673 140688196453760 sc2_env.py:507] Starting episode 161: [terran, terran] on Simple64\n",
      "I0924 04:55:55.092380 140688196453760 sc2_env.py:725] Episode 161 finished after 11128 game steps. Outcome: [-1], reward: [-1], score: [170]\n"
     ]
    },
    {
     "name": "stdout",
     "output_type": "stream",
     "text": [
      "barracks :  0  supply :  0\n",
      "marines :  0\n",
      "Episode :  161 | Cumulative Reward :   -1 | Epsilon : 0.804\n"
     ]
    },
    {
     "name": "stderr",
     "output_type": "stream",
     "text": [
      "I0924 04:55:58.414150 140688196453760 sc2_env.py:507] Starting episode 162: [terran, terran] on Simple64\n",
      "I0924 05:02:57.716341 140688196453760 sc2_env.py:725] Episode 164 finished after 28800 game steps. Outcome: [0], reward: [0], score: [11775]\n"
     ]
    },
    {
     "name": "stdout",
     "output_type": "stream",
     "text": [
      "barracks :  7  supply :  21\n",
      "marines :  150\n",
      "Episode :  164 | Cumulative Reward :    0 | Epsilon : 0.802\n"
     ]
    },
    {
     "name": "stderr",
     "output_type": "stream",
     "text": [
      "I0924 05:03:01.095626 140688196453760 sc2_env.py:507] Starting episode 165: [terran, terran] on Simple64\n",
      "I0924 05:04:02.244759 140688196453760 sc2_env.py:725] Episode 165 finished after 10736 game steps. Outcome: [1], reward: [1], score: [4570]\n"
     ]
    },
    {
     "name": "stdout",
     "output_type": "stream",
     "text": [
      "barracks :  5  supply :  7\n",
      "marines :  38\n",
      "Episode :  165 | Cumulative Reward :    1 | Epsilon : 0.802\n"
     ]
    },
    {
     "name": "stderr",
     "output_type": "stream",
     "text": [
      "I0924 05:04:05.590346 140688196453760 sc2_env.py:507] Starting episode 166: [terran, terran] on Simple64\n",
      "I0924 05:06:17.166558 140688196453760 sc2_env.py:725] Episode 166 finished after 18312 game steps. Outcome: [-1], reward: [-1], score: [470]\n"
     ]
    },
    {
     "name": "stdout",
     "output_type": "stream",
     "text": [
      "barracks :  0  supply :  0\n",
      "marines :  0\n",
      "Episode :  166 | Cumulative Reward :   -1 | Epsilon : 0.801\n"
     ]
    },
    {
     "name": "stderr",
     "output_type": "stream",
     "text": [
      "I0924 05:06:20.507662 140688196453760 sc2_env.py:507] Starting episode 167: [terran, terran] on Simple64\n",
      "I0924 05:07:52.808553 140688196453760 sc2_env.py:725] Episode 167 finished after 14328 game steps. Outcome: [-1], reward: [-1], score: [60]\n"
     ]
    },
    {
     "name": "stdout",
     "output_type": "stream",
     "text": [
      "barracks :  0  supply :  0\n",
      "marines :  0\n",
      "Episode :  167 | Cumulative Reward :   -1 | Epsilon : 0.800\n"
     ]
    },
    {
     "name": "stderr",
     "output_type": "stream",
     "text": [
      "I0924 05:07:56.172769 140688196453760 sc2_env.py:507] Starting episode 168: [terran, terran] on Simple64\n",
      "I0924 05:09:37.665703 140688196453760 sc2_env.py:725] Episode 168 finished after 15296 game steps. Outcome: [-1], reward: [-1], score: [120]\n"
     ]
    }
   ],
   "source": [
    "class TerranRLAgentWithRawActsAndRawObs(TerranAgentWithRawActsAndRawObs):\n",
    "    def __init__(self):\n",
    "        super(TerranRLAgentWithRawActsAndRawObs, self).__init__()\n",
    "\n",
    "        self.s_dim = 12\n",
    "        self.a_dim = 6\n",
    "\n",
    "        self.lr = 1e-4 * 1\n",
    "        self.batch_size = 32\n",
    "        self.gamma = 0.99\n",
    "        self.memory_size = 200000\n",
    "        self.eps_max = 0.7\n",
    "        self.eps_min = 0.02\n",
    "        self.epsilon = 0.7\n",
    "        self.init_sampling = 4000\n",
    "        self.target_update_interval = 10\n",
    "\n",
    "        self.data_file_qnet = DATA_FILE_QNET\n",
    "        self.data_file_qnet_target = DATA_FILE_QNET_TARGET\n",
    "        self.score_file = SCORE_FILE\n",
    "\n",
    "        self.qnetwork = NaiveMultiLayerPerceptron(input_dim=self.s_dim,\n",
    "                                                  output_dim=self.a_dim,\n",
    "                                                  num_neurons=[256, 128, 64],\n",
    "                                                  hidden_act_func='ReLU',\n",
    "                                                  out_act_func='Identity').to(device)\n",
    "\n",
    "        self.qnetwork_target = NaiveMultiLayerPerceptron(input_dim=self.s_dim,\n",
    "                                                         output_dim=self.a_dim,\n",
    "                                                         num_neurons=[256, 128, 64],\n",
    "                                                         hidden_act_func='ReLU',\n",
    "                                                         out_act_func='Identity').to(device)\n",
    "\n",
    "        if os.path.isfile(self.data_file_qnet + '.pt'):\n",
    "            self.qnetwork.load_state_dict(torch.load(self.data_file_qnet + '.pt', map_location=torch.device('cpu')))\n",
    "\n",
    "        if os.path.isfile(self.data_file_qnet_target + '.pt'):\n",
    "            self.qnetwork_target.load_state_dict(torch.load(self.data_file_qnet_target + '.pt', map_location=torch.device('cpu')))\n",
    "\n",
    "        # initialize target network same as the main network.\n",
    "        self.qnetwork_target.load_state_dict(self.qnetwork.state_dict())\n",
    "\n",
    "        self.dqn = DQN(state_dim=self.s_dim,\n",
    "                       action_dim=self.a_dim,\n",
    "                       qnet=self.qnetwork,\n",
    "                       qnet_target=self.qnetwork_target,\n",
    "                       lr=self.lr,\n",
    "                       gamma=self.gamma,\n",
    "                       epsilon=self.epsilon).to(device)\n",
    "\n",
    "        self.memory = ExperienceReplayMemory(self.memory_size)\n",
    "\n",
    "        self.print_every = 1\n",
    "        self.cum_reward = 0\n",
    "        self.cum_loss = 0\n",
    "        self.episode_count = 0\n",
    "\n",
    "        self.new_game()\n",
    "\n",
    "    def reset(self):\n",
    "        super(TerranRLAgentWithRawActsAndRawObs, self).reset()\n",
    "        self.new_game()\n",
    "\n",
    "    def new_game(self):\n",
    "        self.base_top_left = None\n",
    "        self.previous_state = None\n",
    "        self.previous_action = None\n",
    "        self.cum_reward = 0\n",
    "        self.cum_loss = 0\n",
    "\n",
    "        # epsilon scheduling\n",
    "        # slowly decaying_epsilon\n",
    "        self.epsilon = max(self.eps_min, self.eps_max - self.eps_min * (self.episode_count / 50))\n",
    "        self.dqn.epsilon = torch.tensor(self.epsilon).to(device)\n",
    "\n",
    "    def get_state(self, obs):\n",
    "        scvs = self.get_my_units_by_type(obs, units.Terran.SCV)\n",
    "        idle_scvs = [scv for scv in scvs if scv.order_length == 0]\n",
    "        command_centers = self.get_my_units_by_type(obs, units.Terran.CommandCenter)\n",
    "        supply_depots = self.get_my_units_by_type(obs, units.Terran.SupplyDepot)\n",
    "        completed_supply_depots = self.get_my_completed_units_by_type(\n",
    "            obs, units.Terran.SupplyDepot)\n",
    "        barrackses = self.get_my_units_by_type(obs, units.Terran.Barracks)\n",
    "        completed_barrackses = self.get_my_completed_units_by_type(\n",
    "            obs, units.Terran.Barracks)\n",
    "        marines = self.get_my_units_by_type(obs, units.Terran.Marine)\n",
    "\n",
    "        queued_marines = (completed_barrackses[0].order_length\n",
    "                          if len(completed_barrackses) > 0 else 0)\n",
    "\n",
    "        free_supply = (obs.observation.player.food_cap -\n",
    "                       obs.observation.player.food_used)\n",
    "        #         can_afford_supply_depot = obs.observation.player.minerals >= 100\n",
    "        #         can_afford_barracks = obs.observation.player.minerals >= 150\n",
    "        can_afford_marine = obs.observation.player.minerals >= 100\n",
    "        too_much_minerals = obs.observation.player.minerals >= 2000\n",
    "        minerals_size = round(obs.observation.player.minerals / 10, 1)\n",
    "\n",
    "        enemy_scvs = self.get_enemy_units_by_type(obs, units.Terran.SCV)\n",
    "        enemy_idle_scvs = [scv for scv in enemy_scvs if scv.order_length == 0]\n",
    "        enemy_command_centers = self.get_enemy_units_by_type(\n",
    "            obs, units.Terran.CommandCenter)\n",
    "        enemy_supply_depots = self.get_enemy_units_by_type(\n",
    "            obs, units.Terran.SupplyDepot)\n",
    "        enemy_completed_supply_depots = self.get_enemy_completed_units_by_type(\n",
    "            obs, units.Terran.SupplyDepot)\n",
    "        enemy_barrackses = self.get_enemy_units_by_type(obs, units.Terran.Barracks)\n",
    "        enemy_completed_barrackses = self.get_enemy_completed_units_by_type(\n",
    "            obs, units.Terran.Barracks)\n",
    "        enemy_Factory = self.get_enemy_units_by_type(obs, units.Terran.Factory)\n",
    "        enemy_Starport = self.get_enemy_units_by_type(obs, units.Terran.Starport)\n",
    "        enemy_Bunker = self.get_enemy_units_by_type(obs, units.Terran.Bunker)\n",
    "\n",
    "        enemy_marines = self.get_enemy_units_by_type(obs, units.Terran.Marine)\n",
    "        enemy_Marauder = self.get_enemy_units_by_type(obs, units.Terran.Marauder)\n",
    "        enemy_Reaper = self.get_enemy_units_by_type(obs, units.Terran.Reaper)\n",
    "        enemy_Hellion = self.get_enemy_units_by_type(obs, units.Terran.Hellion)\n",
    "        enemy_Hellbat = self.get_enemy_units_by_type(obs, units.Terran.Hellbat)\n",
    "        enemy_SiegeTank = self.get_enemy_units_by_type(obs, units.Terran.SiegeTank)\n",
    "        enemy_Cyclone = self.get_enemy_units_by_type(obs, units.Terran.Cyclone)\n",
    "        enemy_WidowMine = self.get_enemy_units_by_type(obs, units.Terran.WidowMine)\n",
    "        enemy_Thor = self.get_enemy_units_by_type(obs, units.Terran.Thor)\n",
    "        enemy_Viking = self.get_enemy_units_by_type(obs, units.Terran.VikingAssault)\n",
    "        enemy_Medivac = self.get_enemy_units_by_type(obs, units.Terran.Medivac)\n",
    "        enemy_Liberator = self.get_enemy_units_by_type(obs, units.Terran.Liberator)\n",
    "        enemy_Raven = self.get_enemy_units_by_type(obs, units.Terran.Raven)\n",
    "        enemy_Battlecruiser = self.get_enemy_units_by_type(obs, units.Terran.Battlecruiser)\n",
    "        enemy_land_count = len(enemy_marines) + len(enemy_Marauder) + len(enemy_Reaper) + len(enemy_Hellion) + \\\n",
    "                           len(enemy_Hellbat) + len(enemy_SiegeTank) + len(enemy_Cyclone) + len(enemy_WidowMine) + len(enemy_Thor)\n",
    "        enemy_air_count = len(enemy_Viking) + len(enemy_Medivac) + len(enemy_Medivac) + len(enemy_Liberator) + len(enemy_Raven) + len(enemy_Battlecruiser)\n",
    "        enemy_total_count = enemy_land_count + enemy_air_count\n",
    "        enemy_center = self.get_enemy_units_by_type(obs, units.Terran.CommandCenter)\n",
    "\n",
    "        killed_unit_count = obs.observation.score_cumulative.killed_value_units\n",
    "        killed_building_count = obs.observation.score_cumulative.killed_value_structures\n",
    "        collected_minerals = obs.observation.score_cumulative.collected_minerals\n",
    "        spent_minerals = obs.observation.score_cumulative.spent_minerals\n",
    "        obs.observation\n",
    "        idle_worker_time = obs.observation.score_cumulative.idle_worker_time\n",
    "        idle_production_time = obs.observation.score_cumulative.idle_production_time\n",
    "\n",
    "#         if(enemy_total_count > 0):\n",
    "#             print(enemy_total_count)\n",
    "        #         print(\"barracks : \", len(barrackses), \" supply : \", len(supply_depots))\n",
    "        #         print(\"free_supply : \", free_supply, \" marines : \", len(marines))\n",
    "        #         print(\"supply : \", len(supply_depots), \" complete : \", len(completed_supply_depots))\n",
    "\n",
    "        return (\n",
    "            #                 len(idle_scvs),\n",
    "#             len(scvs),\n",
    "            len(supply_depots),\n",
    "            len(barrackses),\n",
    "            len(marines),\n",
    "            round(obs.observation.player.minerals / 10, 0),\n",
    "            round(spent_minerals / 10, 0),\n",
    "            #                 too_much_minerals,\n",
    "            idle_production_time,\n",
    "            killed_unit_count,\n",
    "            killed_building_count,\n",
    "            len(enemy_center),\n",
    "            len(enemy_scvs),\n",
    "            len(enemy_supply_depots),\n",
    "#             len(enemy_barrackses),\n",
    "#             len(enemy_Factory),\n",
    "#             len(enemy_Bunker),\n",
    "            enemy_total_count\n",
    "        )\n",
    "\n",
    "    #         return (\n",
    "    #                 len(scvs),\n",
    "    # #                 len(idle_scvs),\n",
    "    #                 len(supply_depots),\n",
    "    #                 len(barrackses),\n",
    "    #                 len(marines),\n",
    "    # #                 queued_marines,\n",
    "    #                 free_supply,\n",
    "    # #                 can_afford_marine,\n",
    "    # #                 too_much_minerals,\n",
    "    # #                 collected_minerals,\n",
    "    #                 spent_minerals,\n",
    "    # #                 idle_production_time,\n",
    "    #                 killed_unit_count,\n",
    "    #                 killed_building_count,\n",
    "    #                 idle_worker_time,\n",
    "    #                 idle_production_time,\n",
    "    #                 len(enemy_command_centers),\n",
    "    #                 len(enemy_scvs),\n",
    "    #                 len(enemy_supply_depots),\n",
    "    #                 len(enemy_barrackses),\n",
    "    #                 len(enemy_marines),\n",
    "    # #                 len(enemy_Marauder),\n",
    "    # #                 len(enemy_Reaper),\n",
    "    #                 len(enemy_Factory),\n",
    "    # #                 len(enemy_Hellion) + len(enemy_Hellbat),\n",
    "    # #                 len(enemy_SiegeTank),\n",
    "    # #                 len(enemy_Cyclone),\n",
    "    # #                 len(enemy_WidowMine),\n",
    "    # #                 len(enemy_Thor),\n",
    "    #                 len(enemy_Starport),\n",
    "    # #                 len(enemy_Viking),\n",
    "    # #                 len(enemy_Medivac),\n",
    "    # #                 len(enemy_Liberator),\n",
    "    # #                 len(enemy_Raven),\n",
    "    # #                 len(enemy_Battlecruiser),\n",
    "    #                 enemy_land_count,\n",
    "    #                 enemy_total_count\n",
    "    # #                 enemy_air_count,\n",
    "    #                 )\n",
    "\n",
    "    # return (\n",
    "    # len(command_centers),\n",
    "    #         len(scvs),\n",
    "    #         len(idle_scvs),\n",
    "    #         len(supply_depots),\n",
    "    #         # len(completed_supply_depots),\n",
    "    #         len(barrackses),\n",
    "    #         # len(completed_barrackses),\n",
    "    #         len(marines),\n",
    "    #         queued_marines,\n",
    "    #         free_supply,\n",
    "    #         # can_afford_supply_depot,\n",
    "    #         # can_afford_barracks,\n",
    "    #         can_afford_marine,\n",
    "    #         too_much_minerals,\n",
    "    #         minerals_size,\n",
    "    #         len(enemy_command_centers),\n",
    "    #         len(enemy_scvs),\n",
    "    #         # len(enemy_idle_scvs),\n",
    "    #         len(enemy_supply_depots),\n",
    "    #         # len(enemy_completed_supply_depots),\n",
    "    #         len(enemy_barrackses),\n",
    "    #         # len(enemy_completed_barrackses),\n",
    "    #         len(enemy_marines),\n",
    "    #         killed_unit_count,\n",
    "    #         killed_building_count\n",
    "    #         )\n",
    "\n",
    "    def step(self, obs):\n",
    "        super(TerranRLAgentWithRawActsAndRawObs, self).step(obs)\n",
    "\n",
    "        # time.sleep(0.5)\n",
    "\n",
    "        state_org = self.get_state(obs)\n",
    "\n",
    "        state = torch.tensor(state_org).float().view(1, self.s_dim).to(device)\n",
    "        action_idx = self.dqn.choose_action(state)\n",
    "        action = self.actions[action_idx]\n",
    "        done = True if obs.last() else False\n",
    "\n",
    "        if self.previous_action is not None:\n",
    "            experience = (self.previous_state.to(device),\n",
    "                          torch.tensor(self.previous_action).view(1, 1).to(device),\n",
    "                          torch.tensor(obs.reward).view(1, 1).to(device),\n",
    "                          state.to(device),\n",
    "                          torch.tensor(done).view(1, 1).to(device))\n",
    "            self.memory.push(experience)\n",
    "\n",
    "        # return (\n",
    "        # 0         len(command_centers),\n",
    "        # 1         len(scvs),\n",
    "        # 2         len(idle_scvs),\n",
    "        # 3         len(supply_depots),\n",
    "        # 4         len(barrackses),\n",
    "        # 5         len(marines),\n",
    "        # 6         queued_marines,\n",
    "        # 7         free_supply,\n",
    "        # 8         can_afford_marine,\n",
    "        # 9         too_much_minerals,\n",
    "        # 10         minerals_size,\n",
    "        # 11         len(enemy_command_centers),\n",
    "        # 12         len(enemy_scvs),\n",
    "        # 13        len(enemy_supply_depots),\n",
    "        # 14         len(enemy_barrackses),\n",
    "        # 15         len(enemy_marines),\n",
    "        # 16         killed_unit_count,\n",
    "        # 17         killed_building_count\n",
    "        # 18         )\n",
    "\n",
    "        self.previous_state = state\n",
    "        self.previous_action = action_idx\n",
    "        self.cum_reward = obs.reward\n",
    "\n",
    "        if obs.last():\n",
    "            supply_depots = self.get_my_units_by_type(obs, units.Terran.SupplyDepot)\n",
    "            marines = self.get_my_units_by_type(obs, units.Terran.Marine)\n",
    "            barrackses = self.get_my_units_by_type(obs, units.Terran.Barracks)\n",
    "            print(\"barracks : \", len(barrackses), \" supply : \", len(supply_depots))\n",
    "            print(\"marines : \", len(marines))\n",
    "            self.episode_count = self.episode_count + 1\n",
    "\n",
    "            if len(self.memory) >= self.init_sampling:\n",
    "                # training dqn\n",
    "                sampled_exps = self.memory.sample(self.batch_size)\n",
    "                sampled_exps = prepare_training_inputs(sampled_exps, device)\n",
    "                self.dqn.learn(*sampled_exps)\n",
    "\n",
    "            if self.episode_count % self.target_update_interval == 0:\n",
    "                self.dqn.qnet_target.load_state_dict(self.dqn.qnet.state_dict())\n",
    "\n",
    "            if self.episode_count % self.print_every == 0:\n",
    "                msg = (self.episode_count, self.cum_reward, self.epsilon)\n",
    "                print(\"Episode : {:4.0f} | Cumulative Reward : {:4.0f} | Epsilon : {:.3f}\".format(*msg))\n",
    "\n",
    "            torch.save(self.dqn.qnet.state_dict(), self.data_file_qnet + '.pt')\n",
    "            torch.save(self.dqn.qnet_target.state_dict(), self.data_file_qnet_target + '.pt')\n",
    "\n",
    "            scores_window.append(obs.reward)  # save most recent reward\n",
    "            win_rate = scores_window.count(1) / len(scores_window) * 100\n",
    "            tie_rate = scores_window.count(0) / len(scores_window) * 100\n",
    "            lost_rate = scores_window.count(-1) / len(scores_window) * 100\n",
    "\n",
    "            scores.append([win_rate, tie_rate, lost_rate])  # save most recent score(win_rate, tie_rate, lost_rate)\n",
    "            with open(self.score_file + '.txt', \"wb\") as fp:\n",
    "                pickle.dump(scores, fp)\n",
    "            #                 print(np.array(scores))\n",
    "\n",
    "            # writer.add_scalar(\"Loss/train\", self.cum_loss/obs.observation.game_loop, self.episode_count)\n",
    "            # writer.add_scalar(\"Score\", self.cum_reward, self.episode_count)\n",
    "\n",
    "        return getattr(self, action)(obs)\n",
    "    \n",
    "if __name__ == \"__main__\":\n",
    "  app.run(main)"
   ]
  },
  {
   "cell_type": "markdown",
   "metadata": {},
   "source": [
    "### [Winning rate graph]"
   ]
  },
  {
   "cell_type": "code",
   "execution_count": null,
   "metadata": {},
   "outputs": [],
   "source": [
    "import pickle\n",
    "import numpy as np\n",
    "import matplotlib.pyplot as plt\n",
    "%matplotlib inline\n",
    "\n",
    "# SCORE_FILE = 'rlagent_with_vanilla_dqn_score'"
   ]
  },
  {
   "cell_type": "code",
   "execution_count": null,
   "metadata": {},
   "outputs": [],
   "source": [
    "with open(SCORE_FILE + '.txt', \"rb\") as fp:\n",
    "    scores = pickle.load(fp)"
   ]
  },
  {
   "cell_type": "code",
   "execution_count": null,
   "metadata": {},
   "outputs": [],
   "source": [
    "np_scores = np.array(scores)\n",
    "np_scores"
   ]
  },
  {
   "cell_type": "code",
   "execution_count": null,
   "metadata": {},
   "outputs": [],
   "source": [
    "# plot the scores\n",
    "fig = plt.figure()\n",
    "ax = fig.add_subplot(111)\n",
    "plt.plot(np.arange(len(np_scores)), np_scores.T[0], color='r', label='win rate')\n",
    "plt.plot(np.arange(len(np_scores)), np_scores.T[1], color='g', label='tie rate')\n",
    "plt.plot(np.arange(len(np_scores)), np_scores.T[2], color='b', label='lose rate')\n",
    "plt.ylabel('Score %')\n",
    "plt.xlabel('Episode #')\n",
    "plt.legend(loc='best')\n",
    "plt.show()"
   ]
  },
  {
   "cell_type": "code",
   "execution_count": null,
   "metadata": {},
   "outputs": [],
   "source": [
    "print device"
   ]
  },
  {
   "cell_type": "code",
   "execution_count": null,
   "metadata": {},
   "outputs": [],
   "source": []
  }
 ],
 "metadata": {
  "environment": {
   "name": "pytorch-gpu.1-4.m55",
   "type": "gcloud",
   "uri": "gcr.io/deeplearning-platform-release/pytorch-gpu.1-4:m55"
  },
  "kernelspec": {
   "display_name": "Python 3",
   "language": "python",
   "name": "python3"
  },
  "language_info": {
   "codemirror_mode": {
    "name": "ipython",
    "version": 3
   },
   "file_extension": ".py",
   "mimetype": "text/x-python",
   "name": "python",
   "nbconvert_exporter": "python",
   "pygments_lexer": "ipython3",
   "version": "3.7.8"
  }
 },
 "nbformat": 4,
 "nbformat_minor": 4
}
